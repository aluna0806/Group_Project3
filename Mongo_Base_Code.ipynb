{
 "cells": [
  {
   "cell_type": "markdown",
   "metadata": {},
   "source": [
    "Mongo Connection"
   ]
  },
  {
   "cell_type": "code",
   "execution_count": null,
   "metadata": {},
   "outputs": [],
   "source": [
    "#import dependencies\n",
    "from bs4 import BeautifulSoup as bs\n",
    "import requests\n",
    "import pymongo\n",
    "import time\n",
    "from splinter import Browser\n",
    "import pandas as pd"
   ]
  },
  {
   "cell_type": "code",
   "execution_count": null,
   "metadata": {},
   "outputs": [],
   "source": [
    "Start up a new database by switching to it. The db does not exist until you create a collection.\n",
    "\n",
    "use travel_db\n",
    "\n",
    "Show the current db by running db.\n",
    "\n",
    "db\n",
    "\n",
    "Show current databases in existence\n",
    "\n",
    "show dbs\n",
    "\n",
    "Create a collection\n",
    "\n",
    "db.createCollection(\"destinations\")\n",
    "\n",
    "See all collections in a database\n",
    "\n",
    "show collections\n",
    "\n",
    "\n",
    "Insert data into the travel_db database with this command.\n",
    "\n",
    "NOTE: This will also create the collection automatically, the contents of the insert are basically a JavaScript object, and include an array.\n",
    "\n",
    "\n",
    "\n",
    "db.destinations.insert({\"continent\": \"Africa\", \"country\": \"Morocco\",\n",
    "                        \"major_cities\": [\"Casablanca\", \"Fez\", \"Marrakech\"]})\n",
    "\n",
    "As a class, come up with 3-5 more countries and insert them into the db using the same syntax as above.\n",
    "\n",
    "db.destinations.insert({\"continent\": \"Europe\", \"country\": \"France\",\n",
    "                        \"major_cities\": [\"Paris\", \"Marseille\", \"Bordeaux\"]})\n",
    "\n",
    "db.destinations.insert({\"continent\": \"North America\", \"country\": \"USA\",\n",
    "                        \"major_cities\": [\"Washington DC\", \"New York City\", \"San Francisco\"]})\n",
    "\n",
    "\n",
    "Observe where the data was entered in the MongoDB instance (in mongod)\n",
    "\n",
    "\n",
    "Find all data in a Collection with db.[COLLECTION_NAME].find()\n",
    "\n",
    "\n",
    "The MongoDB _id was created automatically.\n",
    "\n",
    "\n",
    "This id is specific for each doc in the collection.\n",
    "\n",
    "\n",
    "\n",
    "\n",
    "db.destinations.find()\n",
    "\n",
    "Adding .pretty() makes the data more readable.\n",
    "\n",
    "db.destinations.find().pretty()\n",
    "\n",
    "Find specific data by matching a field.\n",
    "\n",
    "db.destinations.find({\"continent\": \"Africa\"})\n",
    "db.destinations.find({\"country\": \"Morocco\"})\n",
    "\n",
    "\n",
    "Try a few queries with the examples we came up with as a class.\n",
    "\n",
    "\n",
    "Also, pick something that will find more than one entry so we can see how it will return all matches.\n",
    "\n",
    "\n",
    "Find specific data by matching an _id.\n",
    "\n",
    "\n",
    "\n",
    "\n",
    "db.destinations.find({_id: ObjectId(\"<ID Number Here>\")})\n",
    "\n",
    "db.destinations.find({_id: ObjectId(\"5416fe1d94bcf86cd785439036\")})"
   ]
  },
  {
   "cell_type": "code",
   "execution_count": null,
   "metadata": {},
   "outputs": [],
   "source": [
    "db.destinations.insert({'country': 'Egypt', 'continent': 'Africa', major_cities: ['Cairo', 'Luxor']})\n",
    "db.destinations.insert({'country': 'Nigeria', 'continent': 'Africa', major_cities: ['Lagos', 'Kano']})"
   ]
  },
  {
   "cell_type": "code",
   "execution_count": null,
   "metadata": {},
   "outputs": [],
   "source": []
  },
  {
   "cell_type": "code",
   "execution_count": null,
   "metadata": {},
   "outputs": [],
   "source": []
  },
  {
   "cell_type": "code",
   "execution_count": null,
   "metadata": {},
   "outputs": [],
   "source": []
  },
  {
   "cell_type": "code",
   "execution_count": null,
   "metadata": {},
   "outputs": [],
   "source": []
  },
  {
   "cell_type": "code",
   "execution_count": null,
   "metadata": {},
   "outputs": [],
   "source": []
  },
  {
   "cell_type": "code",
   "execution_count": null,
   "metadata": {},
   "outputs": [],
   "source": []
  },
  {
   "cell_type": "code",
   "execution_count": null,
   "metadata": {},
   "outputs": [],
   "source": [
    "# https://docs.mongodb.com/manual/reference/default-mongodb-port/\n",
    "conn = 'mongodb://localhost:27017'\n",
    "client = pymongo.MongoClient(conn)\n",
    "\n",
    "# Define the 'classDB' database in Mongo\n",
    "db = client.classDB  In [3]:  # Query all students\n",
    "# Here, db.students refers to the collection 'classroom '\n",
    "classroom = db.classroom.find()\n",
    "\n",
    "# Iterate through each student in the collection\n",
    "for student in classroom:\n",
    "    print(student)  In [4]:  # Insert a document into the 'students' collection\n",
    "db.classroom.insert_one(\n",
    "    {\n",
    "        'name': 'Ahmed',\n",
    "        'row': 3,\n",
    "        'favorite_python_library': 'Matplotlib',\n",
    "        'hobbies': ['Running', 'Stargazing', 'Reading']\n",
    "    }\n",
    ")\n",
    "\n",
    "# query the classroom collection\n",
    "classroom = db.classroom.find()\n",
    "\n",
    "# see change in collection\n",
    "for student in classroom:\n",
    "    print(student)  Out [4]:  {'_id': ObjectId('5dcb04a3688a3091d304024d'), 'name': 'Ahmed', 'row': 3, 'favorite_python_library': 'Matplotlib', 'hobbies': ['Running', 'Stargazing', 'Reading']}\n",
    " In [5]:  # Update a document\n",
    "db.classroom.update_one(\n",
    "    {'name': 'Ahmed'},\n",
    "    {'$set':\n",
    "        {'row': 4}\n",
    "     }\n",
    ")\n",
    "\n",
    "# query the classroom collection\n",
    "classroom = db.classroom.find()\n",
    "\n",
    "# see change in collection\n",
    "for student in classroom:\n",
    "    print(student)  Out [5]:  {'_id': ObjectId('5dcb04a3688a3091d304024d'), 'name': 'Ahmed', 'row': 4, 'favorite_python_library': 'Matplotlib', 'hobbies': ['Running', 'Stargazing', 'Reading']}\n",
    " In [6]:  # Add an item to a document array\n",
    "db.classroom.update_one(\n",
    "    {'name': 'Ahmed'},\n",
    "    {'$push':\n",
    "        {'hobbies': 'Listening to country music'}\n",
    "     }\n",
    ")\n",
    "\n",
    "# query the classroom collection\n",
    "classroom = db.classroom.find()\n",
    "\n",
    "# see change in collection\n",
    "for student in classroom:\n",
    "    print(student)  Out [6]:  {'_id': ObjectId('5dcb04a3688a3091d304024d'), 'name': 'Ahmed', 'row': 4, 'favorite_python_library': 'Matplotlib', 'hobbies': ['Running', 'Stargazing', 'Reading', 'Listening to country music']}\n",
    " In [7]:  # Delete a field from a document\n",
    "db.classroom.update_one({'name': 'Ahmed'},\n",
    "                        {'$unset':\n",
    "                         {'row': \"\"}\n",
    "                         }\n",
    "                        )\n",
    "\n",
    "# query the classroom collection\n",
    "classroom = db.classroom.find()\n",
    "\n",
    "# see change in collection\n",
    "for student in classroom:\n",
    "    print(student)  Out [7]:  {'_id': ObjectId('5dcb04a3688a3091d304024d'), 'name': 'Ahmed', 'favorite_python_library': 'Matplotlib', 'hobbies': ['Running', 'Stargazing', 'Reading', 'Listening to country music']}\n",
    " In [8]:  # Delete a document from a collection\n",
    "db.classroom.delete_one(\n",
    "    {'name': 'Ahmed'}\n",
    ")\n",
    "\n",
    "# query the classroom collection\n",
    "classroom = db.classroom.find()\n",
    "\n",
    "# see change in collection\n",
    "for student in classroom:\n",
    "    print(student)"
   ]
  },
  {
   "cell_type": "code",
   "execution_count": null,
   "metadata": {},
   "outputs": [],
   "source": []
  },
  {
   "cell_type": "code",
   "execution_count": null,
   "metadata": {},
   "outputs": [],
   "source": []
  },
  {
   "cell_type": "code",
   "execution_count": null,
   "metadata": {},
   "outputs": [],
   "source": []
  },
  {
   "cell_type": "code",
   "execution_count": null,
   "metadata": {},
   "outputs": [],
   "source": []
  },
  {
   "cell_type": "code",
   "execution_count": null,
   "metadata": {},
   "outputs": [],
   "source": []
  },
  {
   "cell_type": "code",
   "execution_count": null,
   "metadata": {},
   "outputs": [],
   "source": []
  },
  {
   "cell_type": "code",
   "execution_count": null,
   "metadata": {},
   "outputs": [],
   "source": []
  },
  {
   "cell_type": "code",
   "execution_count": null,
   "metadata": {},
   "outputs": [],
   "source": []
  },
  {
   "cell_type": "code",
   "execution_count": null,
   "metadata": {},
   "outputs": [],
   "source": []
  },
  {
   "cell_type": "code",
   "execution_count": null,
   "metadata": {},
   "outputs": [],
   "source": []
  },
  {
   "cell_type": "code",
   "execution_count": null,
   "metadata": {},
   "outputs": [],
   "source": []
  },
  {
   "cell_type": "code",
   "execution_count": null,
   "metadata": {},
   "outputs": [],
   "source": []
  },
  {
   "cell_type": "code",
   "execution_count": null,
   "metadata": {},
   "outputs": [],
   "source": []
  },
  {
   "cell_type": "code",
   "execution_count": null,
   "metadata": {},
   "outputs": [],
   "source": []
  },
  {
   "cell_type": "code",
   "execution_count": null,
   "metadata": {},
   "outputs": [],
   "source": []
  }
 ],
 "metadata": {
  "kernelspec": {
   "display_name": "Python 3",
   "language": "python",
   "name": "python3"
  },
  "language_info": {
   "codemirror_mode": {
    "name": "ipython",
    "version": 3
   },
   "file_extension": ".py",
   "mimetype": "text/x-python",
   "name": "python",
   "nbconvert_exporter": "python",
   "pygments_lexer": "ipython3",
   "version": "3.7.6"
  }
 },
 "nbformat": 4,
 "nbformat_minor": 4
}
