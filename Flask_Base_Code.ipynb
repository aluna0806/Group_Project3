{
 "cells": [
  {
   "cell_type": "markdown",
   "metadata": {},
   "source": [
    "Base Flask Code"
   ]
  },
  {
   "cell_type": "code",
   "execution_count": null,
   "metadata": {},
   "outputs": [],
   "source": [
    "# Import our pymongo library, which lets us connect our Flask app to our Mongo database.\n",
    "import pymongo\n",
    "\n",
    "# Create an instance of our Flask app.\n",
    "app = Flask(__name__)\n",
    "\n",
    "# Create connection variable\n",
    "conn = 'mongodb://localhost:27017'\n",
    "\n",
    "# Pass connection to the pymongo instance.\n",
    "client = pymongo.MongoClient(conn)\n",
    "\n",
    "# Connect to a database. Will create one if not already available.\n",
    "db = client.team_db\n",
    "\n",
    "# Drops collection if available to remove duplicates\n",
    "db.team.drop()\n",
    "\n",
    "# Creates a collection in the database and inserts two documents\n",
    "db.team.insert_many(\n",
    "    [\n",
    "        {\n",
    "            'player': 'Jessica',\n",
    "            'position': 'Point Guard'\n",
    "        },\n",
    "        {\n",
    "            'player': 'Mark',\n",
    "            'position': 'Center'\n",
    "        }\n",
    "    ]\n",
    ")\n",
    "\n",
    "\n",
    "# Set route\n",
    "@app.route('/')\n",
    "def index():\n",
    "    # Store the entire team collection in a list\n",
    "    teams = list(db.team.find())\n",
    "    print(teams)\n",
    "\n",
    "    # Return the template with the teams list passed in\n",
    "    return render_template('index.html', teams=teams)\n",
    "\n",
    "\n",
    "if __name__ == \"__main__\":\n",
    "    app.run(debug=True)\n"
   ]
  }
 ],
 "metadata": {
  "kernelspec": {
   "display_name": "Python 3",
   "language": "python",
   "name": "python3"
  },
  "language_info": {
   "codemirror_mode": {
    "name": "ipython",
    "version": 3
   },
   "file_extension": ".py",
   "mimetype": "text/x-python",
   "name": "python",
   "nbconvert_exporter": "python",
   "pygments_lexer": "ipython3",
   "version": "3.7.6"
  }
 },
 "nbformat": 4,
 "nbformat_minor": 4
}
