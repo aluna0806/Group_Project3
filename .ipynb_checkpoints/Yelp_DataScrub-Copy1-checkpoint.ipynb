{
 "cells": [
  {
   "cell_type": "code",
   "execution_count": 1,
   "metadata": {},
   "outputs": [],
   "source": [
    "import pandas as pd"
   ]
  },
  {
   "cell_type": "markdown",
   "metadata": {},
   "source": [
    "## Extract JSONs into DataFrames"
   ]
  },
  {
   "cell_type": "code",
   "execution_count": 2,
   "metadata": {
    "scrolled": true
   },
   "outputs": [
    {
     "data": {
      "text/plain": [
       "'yelp_academic_dataset_business.json'"
      ]
     },
     "execution_count": 2,
     "metadata": {},
     "output_type": "execute_result"
    }
   ],
   "source": [
    "# Establish paths to JSON files\n",
    "biz = \"yelp_academic_dataset_business.json\"\n",
    "reviews = \"yelp_academic_dataset_review.json\"\n",
    "biz"
   ]
  },
  {
   "cell_type": "code",
   "execution_count": 3,
   "metadata": {},
   "outputs": [],
   "source": [
    "# Read Business data into Pandas\n",
    "biz_df = pd.read_json(biz, lines=True)\n",
    "\n",
    "#biz_df.head()"
   ]
  },
  {
   "cell_type": "markdown",
   "metadata": {},
   "source": [
    "## Review & Scrub Data"
   ]
  },
  {
   "cell_type": "code",
   "execution_count": 4,
   "metadata": {},
   "outputs": [
    {
     "data": {
      "text/plain": [
       "business_id      object\n",
       "name             object\n",
       "address          object\n",
       "city             object\n",
       "state            object\n",
       "postal_code      object\n",
       "latitude        float64\n",
       "longitude       float64\n",
       "stars           float64\n",
       "review_count      int64\n",
       "is_open           int64\n",
       "attributes       object\n",
       "categories       object\n",
       "hours            object\n",
       "dtype: object"
      ]
     },
     "execution_count": 4,
     "metadata": {},
     "output_type": "execute_result"
    }
   ],
   "source": [
    "#Assess Data Types... if needed\n",
    "biz_df.dtypes"
   ]
  },
  {
   "cell_type": "code",
   "execution_count": 5,
   "metadata": {},
   "outputs": [
    {
     "data": {
      "text/plain": [
       "Las Vegas     31631\n",
       "Toronto       20366\n",
       "Phoenix       20171\n",
       "Charlotte     10422\n",
       "Scottsdale     9342\n",
       "Name: city, dtype: int64"
      ]
     },
     "execution_count": 5,
     "metadata": {},
     "output_type": "execute_result"
    }
   ],
   "source": [
    "#Assess what cities to pull in: Las Vegas, Toronto, Phoenix, Charlotte. Not including Scottsdale as it's close to Phoenix\n",
    "biz_df['city'].value_counts().head()"
   ]
  },
  {
   "cell_type": "code",
   "execution_count": 6,
   "metadata": {},
   "outputs": [],
   "source": [
    "#Remove closed businesses, column is_open\n",
    "OpenBiz = biz_df[biz_df['is_open']==1]\n",
    "\n",
    "#OpenBiz.head()"
   ]
  },
  {
   "cell_type": "code",
   "execution_count": 7,
   "metadata": {},
   "outputs": [
    {
     "data": {
      "text/plain": [
       "1    168903\n",
       "Name: is_open, dtype: int64"
      ]
     },
     "execution_count": 7,
     "metadata": {},
     "output_type": "execute_result"
    }
   ],
   "source": [
    "#Check if \"0\" were removed\n",
    "OpenBiz['is_open'].value_counts().head(10)\n"
   ]
  },
  {
   "cell_type": "code",
   "execution_count": 8,
   "metadata": {},
   "outputs": [],
   "source": [
    "#Drop \"is_open\" as it is no longer needed\n",
    "biz_df2 = OpenBiz.drop('is_open', axis=1)\n",
    "\n",
    "#biz_df2.head()"
   ]
  },
  {
   "cell_type": "code",
   "execution_count": 9,
   "metadata": {
    "scrolled": true
   },
   "outputs": [],
   "source": [
    "#Split categories (strings) in to their own row\n",
    "Categories = biz_df2.assign(categories = biz_df2.categories.str.split(',')).explode('categories')\n",
    "\n",
    "# Categories.head()"
   ]
  },
  {
   "cell_type": "code",
   "execution_count": 10,
   "metadata": {
    "scrolled": true
   },
   "outputs": [
    {
     "data": {
      "text/plain": [
       " Restaurants                 30776\n",
       " Shopping                    21555\n",
       " Food                        18475\n",
       " Home Services               14886\n",
       "Restaurants                  13189\n",
       "                             ...  \n",
       " Geneticists                     1\n",
       "Music Production Services        1\n",
       "Municipality                     1\n",
       " Ceremonial Clothing             1\n",
       " Halfway Houses                  1\n",
       "Name: categories, Length: 2505, dtype: int64"
      ]
     },
     "execution_count": 10,
     "metadata": {},
     "output_type": "execute_result"
    }
   ],
   "source": [
    "#Check category counts, \"Restaurants\" = 30776 & \" Restaurants\" = 13189\n",
    "\n",
    "Categories.categories.value_counts()"
   ]
  },
  {
   "cell_type": "code",
   "execution_count": 11,
   "metadata": {},
   "outputs": [],
   "source": [
    "#Update \" Restaurants\" to just \"Restaurants\"\n",
    "Categories['categories'] = Categories['categories'].replace(\n",
    "    {' Restaurants': 'Restaurants'})"
   ]
  },
  {
   "cell_type": "code",
   "execution_count": 12,
   "metadata": {},
   "outputs": [
    {
     "data": {
      "text/plain": [
       "Restaurants                  43965\n",
       " Shopping                    21555\n",
       " Food                        18475\n",
       " Home Services               14886\n",
       " Health & Medical            12758\n",
       "                             ...  \n",
       " Geneticists                     1\n",
       "Music Production Services        1\n",
       "Municipality                     1\n",
       " Ceremonial Clothing             1\n",
       " Halfway Houses                  1\n",
       "Name: categories, Length: 2504, dtype: int64"
      ]
     },
     "execution_count": 12,
     "metadata": {},
     "output_type": "execute_result"
    }
   ],
   "source": [
    "#Check category counts... checks out\n",
    "\n",
    "Categories.categories.value_counts()"
   ]
  },
  {
   "cell_type": "code",
   "execution_count": 13,
   "metadata": {},
   "outputs": [],
   "source": [
    "#Create CSV for the front end ppl to review as scrub continues\n",
    "#Categories.to_csv(\"Data/Yelp_InitialScrub.csv\")"
   ]
  },
  {
   "cell_type": "code",
   "execution_count": 14,
   "metadata": {},
   "outputs": [],
   "source": [
    "# Establish paths to CSV path\n",
    "biz2 = \"Yelp_InitialScrub.csv\""
   ]
  },
  {
   "cell_type": "code",
   "execution_count": 15,
   "metadata": {},
   "outputs": [
    {
     "ename": "FileNotFoundError",
     "evalue": "[Errno 2] File Data/Yelp_InitialScrub.csv does not exist: 'Data/Yelp_InitialScrub.csv'",
     "output_type": "error",
     "traceback": [
      "\u001b[1;31m---------------------------------------------------------------------------\u001b[0m",
      "\u001b[1;31mFileNotFoundError\u001b[0m                         Traceback (most recent call last)",
      "\u001b[1;32m<ipython-input-15-32e2678bf5b6>\u001b[0m in \u001b[0;36m<module>\u001b[1;34m\u001b[0m\n\u001b[1;32m----> 1\u001b[1;33m \u001b[0mbizDF\u001b[0m \u001b[1;33m=\u001b[0m \u001b[0mpd\u001b[0m\u001b[1;33m.\u001b[0m\u001b[0mread_csv\u001b[0m\u001b[1;33m(\u001b[0m\u001b[0mbiz2\u001b[0m\u001b[1;33m)\u001b[0m\u001b[1;33m\u001b[0m\u001b[1;33m\u001b[0m\u001b[0m\n\u001b[0m\u001b[0;32m      2\u001b[0m \u001b[1;31m#bizDF.head()\u001b[0m\u001b[1;33m\u001b[0m\u001b[1;33m\u001b[0m\u001b[1;33m\u001b[0m\u001b[0m\n",
      "\u001b[1;32m~\\anaconda3\\lib\\site-packages\\pandas\\io\\parsers.py\u001b[0m in \u001b[0;36mparser_f\u001b[1;34m(filepath_or_buffer, sep, delimiter, header, names, index_col, usecols, squeeze, prefix, mangle_dupe_cols, dtype, engine, converters, true_values, false_values, skipinitialspace, skiprows, skipfooter, nrows, na_values, keep_default_na, na_filter, verbose, skip_blank_lines, parse_dates, infer_datetime_format, keep_date_col, date_parser, dayfirst, cache_dates, iterator, chunksize, compression, thousands, decimal, lineterminator, quotechar, quoting, doublequote, escapechar, comment, encoding, dialect, error_bad_lines, warn_bad_lines, delim_whitespace, low_memory, memory_map, float_precision)\u001b[0m\n\u001b[0;32m    674\u001b[0m         )\n\u001b[0;32m    675\u001b[0m \u001b[1;33m\u001b[0m\u001b[0m\n\u001b[1;32m--> 676\u001b[1;33m         \u001b[1;32mreturn\u001b[0m \u001b[0m_read\u001b[0m\u001b[1;33m(\u001b[0m\u001b[0mfilepath_or_buffer\u001b[0m\u001b[1;33m,\u001b[0m \u001b[0mkwds\u001b[0m\u001b[1;33m)\u001b[0m\u001b[1;33m\u001b[0m\u001b[1;33m\u001b[0m\u001b[0m\n\u001b[0m\u001b[0;32m    677\u001b[0m \u001b[1;33m\u001b[0m\u001b[0m\n\u001b[0;32m    678\u001b[0m     \u001b[0mparser_f\u001b[0m\u001b[1;33m.\u001b[0m\u001b[0m__name__\u001b[0m \u001b[1;33m=\u001b[0m \u001b[0mname\u001b[0m\u001b[1;33m\u001b[0m\u001b[1;33m\u001b[0m\u001b[0m\n",
      "\u001b[1;32m~\\anaconda3\\lib\\site-packages\\pandas\\io\\parsers.py\u001b[0m in \u001b[0;36m_read\u001b[1;34m(filepath_or_buffer, kwds)\u001b[0m\n\u001b[0;32m    446\u001b[0m \u001b[1;33m\u001b[0m\u001b[0m\n\u001b[0;32m    447\u001b[0m     \u001b[1;31m# Create the parser.\u001b[0m\u001b[1;33m\u001b[0m\u001b[1;33m\u001b[0m\u001b[1;33m\u001b[0m\u001b[0m\n\u001b[1;32m--> 448\u001b[1;33m     \u001b[0mparser\u001b[0m \u001b[1;33m=\u001b[0m \u001b[0mTextFileReader\u001b[0m\u001b[1;33m(\u001b[0m\u001b[0mfp_or_buf\u001b[0m\u001b[1;33m,\u001b[0m \u001b[1;33m**\u001b[0m\u001b[0mkwds\u001b[0m\u001b[1;33m)\u001b[0m\u001b[1;33m\u001b[0m\u001b[1;33m\u001b[0m\u001b[0m\n\u001b[0m\u001b[0;32m    449\u001b[0m \u001b[1;33m\u001b[0m\u001b[0m\n\u001b[0;32m    450\u001b[0m     \u001b[1;32mif\u001b[0m \u001b[0mchunksize\u001b[0m \u001b[1;32mor\u001b[0m \u001b[0miterator\u001b[0m\u001b[1;33m:\u001b[0m\u001b[1;33m\u001b[0m\u001b[1;33m\u001b[0m\u001b[0m\n",
      "\u001b[1;32m~\\anaconda3\\lib\\site-packages\\pandas\\io\\parsers.py\u001b[0m in \u001b[0;36m__init__\u001b[1;34m(self, f, engine, **kwds)\u001b[0m\n\u001b[0;32m    878\u001b[0m             \u001b[0mself\u001b[0m\u001b[1;33m.\u001b[0m\u001b[0moptions\u001b[0m\u001b[1;33m[\u001b[0m\u001b[1;34m\"has_index_names\"\u001b[0m\u001b[1;33m]\u001b[0m \u001b[1;33m=\u001b[0m \u001b[0mkwds\u001b[0m\u001b[1;33m[\u001b[0m\u001b[1;34m\"has_index_names\"\u001b[0m\u001b[1;33m]\u001b[0m\u001b[1;33m\u001b[0m\u001b[1;33m\u001b[0m\u001b[0m\n\u001b[0;32m    879\u001b[0m \u001b[1;33m\u001b[0m\u001b[0m\n\u001b[1;32m--> 880\u001b[1;33m         \u001b[0mself\u001b[0m\u001b[1;33m.\u001b[0m\u001b[0m_make_engine\u001b[0m\u001b[1;33m(\u001b[0m\u001b[0mself\u001b[0m\u001b[1;33m.\u001b[0m\u001b[0mengine\u001b[0m\u001b[1;33m)\u001b[0m\u001b[1;33m\u001b[0m\u001b[1;33m\u001b[0m\u001b[0m\n\u001b[0m\u001b[0;32m    881\u001b[0m \u001b[1;33m\u001b[0m\u001b[0m\n\u001b[0;32m    882\u001b[0m     \u001b[1;32mdef\u001b[0m \u001b[0mclose\u001b[0m\u001b[1;33m(\u001b[0m\u001b[0mself\u001b[0m\u001b[1;33m)\u001b[0m\u001b[1;33m:\u001b[0m\u001b[1;33m\u001b[0m\u001b[1;33m\u001b[0m\u001b[0m\n",
      "\u001b[1;32m~\\anaconda3\\lib\\site-packages\\pandas\\io\\parsers.py\u001b[0m in \u001b[0;36m_make_engine\u001b[1;34m(self, engine)\u001b[0m\n\u001b[0;32m   1112\u001b[0m     \u001b[1;32mdef\u001b[0m \u001b[0m_make_engine\u001b[0m\u001b[1;33m(\u001b[0m\u001b[0mself\u001b[0m\u001b[1;33m,\u001b[0m \u001b[0mengine\u001b[0m\u001b[1;33m=\u001b[0m\u001b[1;34m\"c\"\u001b[0m\u001b[1;33m)\u001b[0m\u001b[1;33m:\u001b[0m\u001b[1;33m\u001b[0m\u001b[1;33m\u001b[0m\u001b[0m\n\u001b[0;32m   1113\u001b[0m         \u001b[1;32mif\u001b[0m \u001b[0mengine\u001b[0m \u001b[1;33m==\u001b[0m \u001b[1;34m\"c\"\u001b[0m\u001b[1;33m:\u001b[0m\u001b[1;33m\u001b[0m\u001b[1;33m\u001b[0m\u001b[0m\n\u001b[1;32m-> 1114\u001b[1;33m             \u001b[0mself\u001b[0m\u001b[1;33m.\u001b[0m\u001b[0m_engine\u001b[0m \u001b[1;33m=\u001b[0m \u001b[0mCParserWrapper\u001b[0m\u001b[1;33m(\u001b[0m\u001b[0mself\u001b[0m\u001b[1;33m.\u001b[0m\u001b[0mf\u001b[0m\u001b[1;33m,\u001b[0m \u001b[1;33m**\u001b[0m\u001b[0mself\u001b[0m\u001b[1;33m.\u001b[0m\u001b[0moptions\u001b[0m\u001b[1;33m)\u001b[0m\u001b[1;33m\u001b[0m\u001b[1;33m\u001b[0m\u001b[0m\n\u001b[0m\u001b[0;32m   1115\u001b[0m         \u001b[1;32melse\u001b[0m\u001b[1;33m:\u001b[0m\u001b[1;33m\u001b[0m\u001b[1;33m\u001b[0m\u001b[0m\n\u001b[0;32m   1116\u001b[0m             \u001b[1;32mif\u001b[0m \u001b[0mengine\u001b[0m \u001b[1;33m==\u001b[0m \u001b[1;34m\"python\"\u001b[0m\u001b[1;33m:\u001b[0m\u001b[1;33m\u001b[0m\u001b[1;33m\u001b[0m\u001b[0m\n",
      "\u001b[1;32m~\\anaconda3\\lib\\site-packages\\pandas\\io\\parsers.py\u001b[0m in \u001b[0;36m__init__\u001b[1;34m(self, src, **kwds)\u001b[0m\n\u001b[0;32m   1889\u001b[0m         \u001b[0mkwds\u001b[0m\u001b[1;33m[\u001b[0m\u001b[1;34m\"usecols\"\u001b[0m\u001b[1;33m]\u001b[0m \u001b[1;33m=\u001b[0m \u001b[0mself\u001b[0m\u001b[1;33m.\u001b[0m\u001b[0musecols\u001b[0m\u001b[1;33m\u001b[0m\u001b[1;33m\u001b[0m\u001b[0m\n\u001b[0;32m   1890\u001b[0m \u001b[1;33m\u001b[0m\u001b[0m\n\u001b[1;32m-> 1891\u001b[1;33m         \u001b[0mself\u001b[0m\u001b[1;33m.\u001b[0m\u001b[0m_reader\u001b[0m \u001b[1;33m=\u001b[0m \u001b[0mparsers\u001b[0m\u001b[1;33m.\u001b[0m\u001b[0mTextReader\u001b[0m\u001b[1;33m(\u001b[0m\u001b[0msrc\u001b[0m\u001b[1;33m,\u001b[0m \u001b[1;33m**\u001b[0m\u001b[0mkwds\u001b[0m\u001b[1;33m)\u001b[0m\u001b[1;33m\u001b[0m\u001b[1;33m\u001b[0m\u001b[0m\n\u001b[0m\u001b[0;32m   1892\u001b[0m         \u001b[0mself\u001b[0m\u001b[1;33m.\u001b[0m\u001b[0munnamed_cols\u001b[0m \u001b[1;33m=\u001b[0m \u001b[0mself\u001b[0m\u001b[1;33m.\u001b[0m\u001b[0m_reader\u001b[0m\u001b[1;33m.\u001b[0m\u001b[0munnamed_cols\u001b[0m\u001b[1;33m\u001b[0m\u001b[1;33m\u001b[0m\u001b[0m\n\u001b[0;32m   1893\u001b[0m \u001b[1;33m\u001b[0m\u001b[0m\n",
      "\u001b[1;32mpandas\\_libs\\parsers.pyx\u001b[0m in \u001b[0;36mpandas._libs.parsers.TextReader.__cinit__\u001b[1;34m()\u001b[0m\n",
      "\u001b[1;32mpandas\\_libs\\parsers.pyx\u001b[0m in \u001b[0;36mpandas._libs.parsers.TextReader._setup_parser_source\u001b[1;34m()\u001b[0m\n",
      "\u001b[1;31mFileNotFoundError\u001b[0m: [Errno 2] File Data/Yelp_InitialScrub.csv does not exist: 'Data/Yelp_InitialScrub.csv'"
     ]
    }
   ],
   "source": [
    "bizDF = pd.read_csv(biz2)\n",
    "#bizDF.head()"
   ]
  },
  {
   "cell_type": "code",
   "execution_count": null,
   "metadata": {
    "scrolled": true
   },
   "outputs": [],
   "source": [
    "Attributes = bizDF.assign(attributes = bizDF.attributes.str.split(',')).explode('attributes')\n",
    "#Attributes.head()"
   ]
  },
  {
   "cell_type": "code",
   "execution_count": null,
   "metadata": {
    "scrolled": true
   },
   "outputs": [],
   "source": [
    "#Attributes.dtypes... attributes is an object"
   ]
  },
  {
   "cell_type": "code",
   "execution_count": null,
   "metadata": {
    "scrolled": true
   },
   "outputs": [],
   "source": [
    "Attributes['attributes'].astype(str)"
   ]
  },
  {
   "cell_type": "code",
   "execution_count": null,
   "metadata": {
    "scrolled": true
   },
   "outputs": [],
   "source": [
    "#Pull all attributes that contain info we want: Restaurants NEED CUISINE INFO\n",
    "Attributes[Attributes['attributes'].str.contains('RestaurantsTakeOut', case=True, na=False)].attributes.value_counts()"
   ]
  },
  {
   "cell_type": "code",
   "execution_count": null,
   "metadata": {
    "scrolled": true
   },
   "outputs": [],
   "source": [
    "#Only keep items that contain food restaurants, i.e. RestaurantsTakeOut\n",
    "\n",
    "biz_df3 = Attributes[Attributes['attributes'].str.contains(\"'RestaurantsTakeOut': 'True'\", na=False)]\n",
    "\n",
    "#biz_df3.head()"
   ]
  },
  {
   "cell_type": "code",
   "execution_count": null,
   "metadata": {},
   "outputs": [],
   "source": [
    "# Check that attributes drill down worked\n",
    "sorted(biz_df3['attributes'].unique())"
   ]
  },
  {
   "cell_type": "code",
   "execution_count": null,
   "metadata": {},
   "outputs": [],
   "source": [
    "# Check for repeats/spelling\n",
    "#sorted(biz_df3['city'].unique())"
   ]
  },
  {
   "cell_type": "code",
   "execution_count": null,
   "metadata": {
    "scrolled": true
   },
   "outputs": [],
   "source": [
    "#Update Las Vegas names to be uniform. MANY spelling errors in data\n",
    "\n",
    "biz_df3.loc[:,'city'] = biz_df3.loc[:,'city'].replace(\n",
    "    ['C Las Vegas', 'Henderson and Las Vegas','Lake Las Vegas','Las  Vegas','LAS VEGAS AP','Las Vegas East'\\\n",
    "     ,'Las Vegas Nevada','Las Vegas Nv','Las Vegas,','Las Vegas, Nevada','Las Vegas, NV','Las Vegass'\\\n",
    "     ,'N E Las Vegas','N Las Vegas','N W Las Vegas','N. Las Vegas','N.Las Vegas','North Las Vegas','South Las Vegas'\\\n",
    "     ,'West Las Vegass','Las vegas','LAS VEGAS'] , 'Las Vegas')\n"
   ]
  },
  {
   "cell_type": "code",
   "execution_count": null,
   "metadata": {},
   "outputs": [],
   "source": [
    "# Check after updates\n",
    "#sorted(biz_df3['city'].unique())"
   ]
  },
  {
   "cell_type": "code",
   "execution_count": null,
   "metadata": {
    "scrolled": true
   },
   "outputs": [],
   "source": [
    "#Update Charlotte names to be uniform. MANY spelling errors in data\n",
    "\n",
    "biz_df3.loc[:,'city'] = biz_df3.loc[:,'city'].replace(\n",
    "    ['North Charlotte', 'South Charlotte','Charotte'] , 'Charlotte')"
   ]
  },
  {
   "cell_type": "code",
   "execution_count": null,
   "metadata": {},
   "outputs": [],
   "source": [
    "# Check after updates\n",
    "#sorted(biz_df3['city'].unique())"
   ]
  },
  {
   "cell_type": "code",
   "execution_count": null,
   "metadata": {},
   "outputs": [],
   "source": [
    "#Update Toronto names to be uniform. MANY spelling errors in data\n",
    "\n",
    "biz_df3.loc[:,'city'] = biz_df3.loc[:,'city'].replace(\n",
    "    ['Downtown Toronto', 'North Toronto','TORONTO - DANFORTH (OT)','TORONTO - FRONT ST (OT)','Toronto Division'\\\n",
    "     ,'Toronto-Etobicoke','Toronto-North York','Toronto-West','West Toronto','Tornto'] , 'Toronto')"
   ]
  },
  {
   "cell_type": "code",
   "execution_count": null,
   "metadata": {},
   "outputs": [],
   "source": [
    "# Check after updates\n",
    "#sorted(biz_df3['city'].unique())"
   ]
  },
  {
   "cell_type": "code",
   "execution_count": null,
   "metadata": {},
   "outputs": [],
   "source": [
    "biz_df3.loc[:,'city'] = biz_df3.loc[:,'city'].replace(\n",
    "    ['Metro Phoenix', 'North Phoenix','PHOENIX AP','Phoenix AZ','Phoenix Valley','Phoenix,','Phoenix,AZ'\\\n",
    "     ,'Phoneix','Phonenix,','Phoniex','Phx'],'Phoenix')"
   ]
  },
  {
   "cell_type": "code",
   "execution_count": null,
   "metadata": {},
   "outputs": [],
   "source": [
    "# Check after updates\n",
    "#sorted(biz_df3['city'].unique())"
   ]
  },
  {
   "cell_type": "code",
   "execution_count": null,
   "metadata": {
    "scrolled": true
   },
   "outputs": [],
   "source": [
    "# ONLY keep items in City: Charlotte, Las Vegas, Phoenix, Toronto\n",
    "\n",
    "biz_df4 = biz_df3[biz_df3['city'].str.contains('Charlotte|Las Vegas|Phoenix|Toronto', regex=True)]\n",
    "\n",
    "#biz_df4.head()"
   ]
  },
  {
   "cell_type": "code",
   "execution_count": null,
   "metadata": {
    "scrolled": false
   },
   "outputs": [],
   "source": [
    "# Check after updates\n",
    "sorted(biz_df4['city'].unique())"
   ]
  },
  {
   "cell_type": "code",
   "execution_count": null,
   "metadata": {},
   "outputs": [],
   "source": [
    "#Create CSV for the front end ppl to review as scrub continues V2\n",
    "#biz_df4.to_csv(\"Data/Yelp_InitialScrubV2.csv\")"
   ]
  },
  {
   "cell_type": "code",
   "execution_count": null,
   "metadata": {},
   "outputs": [],
   "source": [
    "#Categories to filter through\n",
    "#sorted(biz_df4['categories'].unique())"
   ]
  },
  {
   "cell_type": "code",
   "execution_count": null,
   "metadata": {
    "scrolled": true
   },
   "outputs": [],
   "source": [
    "biz_df4.categories.value_counts()"
   ]
  },
  {
   "cell_type": "code",
   "execution_count": null,
   "metadata": {},
   "outputs": [],
   "source": [
    "#Update \" Restaurants\" to just \"Restaurants\"\n",
    "biz_df4.loc[:,'categories'] = biz_df4.loc[:,'categories'].replace(\n",
    "    [' Food'] , 'Food')"
   ]
  },
  {
   "cell_type": "code",
   "execution_count": null,
   "metadata": {},
   "outputs": [],
   "source": [
    "biz_df4.loc[:,'categories'] = biz_df4.loc[:,'categories'].replace(\n",
    "    [' Restaurants'], 'Restaurants')"
   ]
  },
  {
   "cell_type": "code",
   "execution_count": null,
   "metadata": {},
   "outputs": [],
   "source": [
    "biz_df4.categories.value_counts().head(25)"
   ]
  },
  {
   "cell_type": "code",
   "execution_count": null,
   "metadata": {},
   "outputs": [],
   "source": [
    "#Remove Restaurants & Food as these are typically double qualifiers to cuisines\n",
    "\n",
    "biz_df5 = biz_df4[~biz_df4['categories'].str.contains('Restaurants|Food| Nightlife| Bars|Bars| Coffee & Tea| Sandwiches|\\\n",
    "    | Breakfast & Brunch| Specialty Food| Desserts| Event Planning & Services| Bakeries| Cafes|Cafes| Chicken Wings|\\\n",
    "    |Coffee & Tea| Salad| Caterers| Grocery|Sandwiches| Ice Cream & Frozen Yogurt|Pizza| Wine & Spirits| Delis|\\\n",
    "    | Shopping| Vegetarian| Tacos| Beer| Burgers| Convenience Store|Nightlife| Vegan|Breakfast & Brunch| Diners|Bars|\\\n",
    "    | Gluten-Free| Gas Stations| Soup|Desserts| Automotive|Bakeries| Chicken Shop| Arts & Entertainment|Grocery|Cafes|\\\n",
    "    | Bubble Tea|Chicken Wings| Noodles|Ice Cream & Frozen Yogurt|Salad| Donuts| Health Markets| Lounges| Hot Dogs|\\\n",
    "    | Drugstores| Venues & Event Spaces| Buffets| Bagels|Event Planning & Services| Tea Rooms|Delis| Breweries|\\\n",
    "    |Caterers| Ramen| Custom Cakes| Meat Shops| Street Vendors| Cupcakes| Flowers & Gifts| Chocolatiers & Shops|\\\n",
    "    |Diners| Local Flavor|Beer|Shopping|Donuts| Fish & Chips|Convenience Store| Shaved Ice| Poke|Burgers| Dim Sum|\\\n",
    "    |Bubble Tea|Vegetarian| Hotels & Travel| Patisserie/Cake Shop| Music Venue|Gas Station| Creperies| Fashion|\\\n",
    "    | Farmers Market|Vegan| Karaoke| Casinos| Coffee Roasteries| Department Stores|Soup| Seafood Markets|\\\n",
    "    | Fruits & Veggies| Organic Stores|Hot Dogs|Gluten-Free| Acai Bowls|Noodles| Cheesesteaks|Automotive| Active Life|\\\n",
    "    | Hotels| Wraps| Candy Stores| Butcher|Chicken Shop| Cheese Shops| Service Stations| Kebab|Bagels| Gelato|\\\n",
    "    | Health & Medical|Tea Rooms| Waffles| Falafel| Party & Event Planning|Buffets| Pasta Shops|Local Flavor|\\\n",
    "    | Modern European|Health Markets| Beauty & Spas| Poutineries|Tacos| Personal Chefs| Florists| Gift Shops|Ramen|\\\n",
    "    | New Mexican Cuisine|Seafood Markets| Japanese Curry|New Mexican Cuisine| Traditional Chinese Medicine|\\\n",
    "    |Japanese Curry',na=False)]"
   ]
  },
  {
   "cell_type": "code",
   "execution_count": null,
   "metadata": {},
   "outputs": [],
   "source": [
    "biz_df5.categories.value_counts().head(50)"
   ]
  },
  {
   "cell_type": "code",
   "execution_count": null,
   "metadata": {},
   "outputs": [],
   "source": [
    "#Edit spaces out of names to make unique\n",
    "\n",
    "biz_df5.loc[:,'categories'] = biz_df5.loc[:,'categories'].replace(\n",
    "    [' American (New)'], 'American (New)')"
   ]
  },
  {
   "cell_type": "code",
   "execution_count": null,
   "metadata": {
    "scrolled": true
   },
   "outputs": [],
   "source": [
    "biz_df5.loc[:,'categories'] = biz_df5.loc[:,'categories'].replace(\n",
    "    [' Asian Fusion'], 'Asian Fusion')"
   ]
  },
  {
   "cell_type": "code",
   "execution_count": null,
   "metadata": {
    "scrolled": true
   },
   "outputs": [],
   "source": [
    "biz_df5.loc[:,'categories'] = biz_df5.loc[:,'categories'].replace(\n",
    "    [' American (Traditional)'], 'American (Traditional)')"
   ]
  },
  {
   "cell_type": "code",
   "execution_count": null,
   "metadata": {},
   "outputs": [],
   "source": [
    "biz_df5.categories.value_counts().head(10)"
   ]
  },
  {
   "cell_type": "code",
   "execution_count": null,
   "metadata": {
    "scrolled": true
   },
   "outputs": [],
   "source": [
    "biz_df5.loc[:,'categories'] = biz_df5.loc[:,'categories'].replace(\n",
    "    [' Barbeque'], 'Barbeque')"
   ]
  },
  {
   "cell_type": "code",
   "execution_count": null,
   "metadata": {},
   "outputs": [],
   "source": [
    "biz_df5.loc[:,'categories'] = biz_df5.loc[:,'categories'].replace(\n",
    "    [' Cajun/Creole'], 'Cajun/Creole')"
   ]
  },
  {
   "cell_type": "code",
   "execution_count": null,
   "metadata": {},
   "outputs": [],
   "source": [
    "biz_df5.loc[:,'categories'] = biz_df5.loc[:,'categories'].replace(\n",
    "    [' Canadian (New)'], 'Canadian (New)')"
   ]
  },
  {
   "cell_type": "code",
   "execution_count": null,
   "metadata": {},
   "outputs": [],
   "source": [
    "biz_df5.loc[:,'categories'] = biz_df5.loc[:,'categories'].replace(\n",
    "    [' Caribbean'], 'Caribbean')"
   ]
  },
  {
   "cell_type": "code",
   "execution_count": null,
   "metadata": {},
   "outputs": [],
   "source": [
    "biz_df5.categories.value_counts().head(10)"
   ]
  },
  {
   "cell_type": "code",
   "execution_count": null,
   "metadata": {
    "scrolled": true
   },
   "outputs": [],
   "source": [
    "biz_df5.loc[:,'categories'] = biz_df5.loc[:,'categories'].replace(\n",
    "    [' Chinese'], 'Chinese')"
   ]
  },
  {
   "cell_type": "code",
   "execution_count": null,
   "metadata": {},
   "outputs": [],
   "source": [
    "biz_df5.loc[:,'categories'] = biz_df5.loc[:,'categories'].replace(\n",
    "    [' French'], 'French')"
   ]
  },
  {
   "cell_type": "code",
   "execution_count": null,
   "metadata": {},
   "outputs": [],
   "source": [
    "biz_df5.loc[:,'categories'] = biz_df5.loc[:,'categories'].replace(\n",
    "    [' Greek'], 'Greek')"
   ]
  },
  {
   "cell_type": "code",
   "execution_count": null,
   "metadata": {},
   "outputs": [],
   "source": [
    "biz_df5.loc[:,'categories'] = biz_df5.loc[:,'categories'].replace(\n",
    "    [' Halal'], 'Halal')"
   ]
  },
  {
   "cell_type": "code",
   "execution_count": null,
   "metadata": {},
   "outputs": [],
   "source": [
    "biz_df5.loc[:,'categories'] = biz_df5.loc[:,'categories'].replace(\n",
    "    [' Hawaiian'], 'Hawaiian')"
   ]
  },
  {
   "cell_type": "code",
   "execution_count": null,
   "metadata": {},
   "outputs": [],
   "source": [
    "biz_df5.loc[:,'categories'] = biz_df5.loc[:,'categories'].replace(\n",
    "    [' Indian'], 'Indian')"
   ]
  },
  {
   "cell_type": "code",
   "execution_count": null,
   "metadata": {},
   "outputs": [],
   "source": [
    "biz_df5.loc[:,'categories'] = biz_df5.loc[:,'categories'].replace(\n",
    "    [' Italian'], 'Italian')"
   ]
  },
  {
   "cell_type": "code",
   "execution_count": null,
   "metadata": {},
   "outputs": [],
   "source": [
    "biz_df5.loc[:,'categories'] = biz_df5.loc[:,'categories'].replace(\n",
    "    [' Japanese'], 'Japanese')"
   ]
  },
  {
   "cell_type": "code",
   "execution_count": null,
   "metadata": {},
   "outputs": [],
   "source": [
    "biz_df5.loc[:,'categories'] = biz_df5.loc[:,'categories'].replace(\n",
    "    [' Korean'], 'Korean')"
   ]
  },
  {
   "cell_type": "code",
   "execution_count": null,
   "metadata": {},
   "outputs": [],
   "source": [
    "biz_df5.loc[:,'categories'] = biz_df5.loc[:,'categories'].replace(\n",
    "    [' Latin American'], 'Latin American')"
   ]
  },
  {
   "cell_type": "code",
   "execution_count": null,
   "metadata": {},
   "outputs": [],
   "source": [
    "biz_df5.loc[:,'categories'] = biz_df5.loc[:,'categories'].replace(\n",
    "    [' Mexican'], 'Mexican')"
   ]
  },
  {
   "cell_type": "code",
   "execution_count": null,
   "metadata": {},
   "outputs": [],
   "source": [
    "biz_df5.loc[:,'categories'] = biz_df5.loc[:,'categories'].replace(\n",
    "    [' Mediterranean'], 'Mediterranean')"
   ]
  },
  {
   "cell_type": "code",
   "execution_count": null,
   "metadata": {},
   "outputs": [],
   "source": [
    "biz_df5.loc[:,'categories'] = biz_df5.loc[:,'categories'].replace(\n",
    "    [' Middle Eastern'], 'Middle Eastern')"
   ]
  },
  {
   "cell_type": "code",
   "execution_count": null,
   "metadata": {},
   "outputs": [],
   "source": [
    "biz_df5.loc[:,'categories'] = biz_df5.loc[:,'categories'].replace(\n",
    "    [' Pubs'], 'Pubs')"
   ]
  },
  {
   "cell_type": "code",
   "execution_count": null,
   "metadata": {},
   "outputs": [],
   "source": [
    "biz_df5.loc[:,'categories'] = biz_df5.loc[:,'categories'].replace(\n",
    "    ['Pubs'], 'Gastropubs')"
   ]
  },
  {
   "cell_type": "code",
   "execution_count": null,
   "metadata": {},
   "outputs": [],
   "source": [
    "biz_df5.loc[:,'categories'] = biz_df5.loc[:,'categories'].replace(\n",
    "    [' Gastropubs'], 'Gastropubs')"
   ]
  },
  {
   "cell_type": "code",
   "execution_count": null,
   "metadata": {},
   "outputs": [],
   "source": [
    "biz_df5.loc[:,'categories'] = biz_df5.loc[:,'categories'].replace(\n",
    "    [' Seafood'], 'Seafood')"
   ]
  },
  {
   "cell_type": "code",
   "execution_count": null,
   "metadata": {},
   "outputs": [],
   "source": [
    "biz_df5.loc[:,'categories'] = biz_df5.loc[:,'categories'].replace(\n",
    "    [' Southern'], 'Southern')"
   ]
  },
  {
   "cell_type": "code",
   "execution_count": null,
   "metadata": {},
   "outputs": [],
   "source": [
    "biz_df5.loc[:,'categories'] = biz_df5.loc[:,'categories'].replace(\n",
    "    [' Steakhouses'], 'Steakhouses')"
   ]
  },
  {
   "cell_type": "code",
   "execution_count": null,
   "metadata": {},
   "outputs": [],
   "source": [
    "biz_df5.loc[:,'categories'] = biz_df5.loc[:,'categories'].replace(\n",
    "    [' Tapas/Small Plates'], 'Tapas/Small Plates')"
   ]
  },
  {
   "cell_type": "code",
   "execution_count": null,
   "metadata": {},
   "outputs": [],
   "source": [
    "biz_df5.loc[:,'categories'] = biz_df5.loc[:,'categories'].replace(\n",
    "    [' Tex-Mex'], 'Tex-Mex')"
   ]
  },
  {
   "cell_type": "code",
   "execution_count": null,
   "metadata": {},
   "outputs": [],
   "source": [
    "biz_df5.loc[:,'categories'] = biz_df5.loc[:,'categories'].replace(\n",
    "    [' Thai'], 'Thai')"
   ]
  },
  {
   "cell_type": "code",
   "execution_count": null,
   "metadata": {},
   "outputs": [],
   "source": [
    "biz_df5.loc[:,'categories'] = biz_df5.loc[:,'categories'].replace(\n",
    "    [' Filipino'], 'Filipino')"
   ]
  },
  {
   "cell_type": "code",
   "execution_count": null,
   "metadata": {},
   "outputs": [],
   "source": [
    "biz_df5.loc[:,'categories'] = biz_df5.loc[:,'categories'].replace(\n",
    "    [' Pakistani'], 'Pakistani')"
   ]
  },
  {
   "cell_type": "code",
   "execution_count": null,
   "metadata": {},
   "outputs": [],
   "source": [
    "biz_df5.loc[:,'categories'] = biz_df5.loc[:,'categories'].replace(\n",
    "    [' Taiwanese'], 'Taiwanese')"
   ]
  },
  {
   "cell_type": "code",
   "execution_count": null,
   "metadata": {},
   "outputs": [],
   "source": [
    "biz_df5.loc[:,'categories'] = biz_df5.loc[:,'categories'].replace(\n",
    "    [' Portuguese'], 'Portuguese')"
   ]
  },
  {
   "cell_type": "code",
   "execution_count": null,
   "metadata": {},
   "outputs": [],
   "source": [
    "biz_df5.loc[:,'categories'] = biz_df5.loc[:,'categories'].replace(\n",
    "    [' Persian/Iranian'], 'Persian/Iranian')"
   ]
  },
  {
   "cell_type": "code",
   "execution_count": null,
   "metadata": {},
   "outputs": [],
   "source": [
    "biz_df5.loc[:,'categories'] = biz_df5.loc[:,'categories'].replace(\n",
    "    [' Salvadoran'], 'Salvadoran')"
   ]
  },
  {
   "cell_type": "code",
   "execution_count": null,
   "metadata": {},
   "outputs": [],
   "source": [
    "biz_df5.loc[:,'categories'] = biz_df5.loc[:,'categories'].replace(\n",
    "    [' Kosher'], 'Kosher')"
   ]
  },
  {
   "cell_type": "code",
   "execution_count": null,
   "metadata": {},
   "outputs": [],
   "source": [
    "biz_df5.loc[:,'categories'] = biz_df5.loc[:,'categories'].replace(\n",
    "    [' African'], 'African')"
   ]
  },
  {
   "cell_type": "code",
   "execution_count": null,
   "metadata": {},
   "outputs": [],
   "source": [
    "biz_df5.loc[:,'categories'] = biz_df5.loc[:,'categories'].replace(\n",
    "    [' Spanish'], 'Spanish')"
   ]
  },
  {
   "cell_type": "code",
   "execution_count": null,
   "metadata": {},
   "outputs": [],
   "source": [
    "biz_df5.loc[:,'categories'] = biz_df5.loc[:,'categories'].replace(\n",
    "    [' Cantonese'], 'Cantonese')"
   ]
  },
  {
   "cell_type": "code",
   "execution_count": null,
   "metadata": {},
   "outputs": [],
   "source": [
    "biz_df5.loc[:,'categories'] = biz_df5.loc[:,'categories'].replace(\n",
    "    [' British'], 'British')"
   ]
  },
  {
   "cell_type": "code",
   "execution_count": null,
   "metadata": {},
   "outputs": [],
   "source": [
    "biz_df5.loc[:,'categories'] = biz_df5.loc[:,'categories'].replace(\n",
    "    [' Irish'], 'Irish')"
   ]
  },
  {
   "cell_type": "code",
   "execution_count": null,
   "metadata": {},
   "outputs": [],
   "source": [
    "biz_df5.loc[:,'categories'] = biz_df5.loc[:,'categories'].replace(\n",
    "    [' Turkish'], 'Turkish')"
   ]
  },
  {
   "cell_type": "code",
   "execution_count": null,
   "metadata": {},
   "outputs": [],
   "source": [
    "biz_df5.loc[:,'categories'] = biz_df5.loc[:,'categories'].replace(\n",
    "    [' Ethiopian'], 'Ethiopian')"
   ]
  },
  {
   "cell_type": "code",
   "execution_count": null,
   "metadata": {},
   "outputs": [],
   "source": [
    "biz_df5.loc[:,'categories'] = biz_df5.loc[:,'categories'].replace(\n",
    "    [' Vietnamese'], 'Vietnamese')"
   ]
  },
  {
   "cell_type": "code",
   "execution_count": null,
   "metadata": {},
   "outputs": [],
   "source": [
    "biz_df5.categories.value_counts().head(40)"
   ]
  },
  {
   "cell_type": "code",
   "execution_count": null,
   "metadata": {
    "scrolled": true
   },
   "outputs": [],
   "source": [
    "# ONLY keep top 40 categories over all 4 cities\n",
    "\n",
    "FinalDF = biz_df5[biz_df5['categories'].str.contains('Mexican|American (Traditional)|Chinese|American (New)|Italian|\\\n",
    "    |Japanese|Seafood|Asian Fusion|Gastropubs|Mediterranean|Barbeque|Thai|Indian|Canadian (New)|Middle Eastern|\\\n",
    "    |Vietnamese|Steakhouses|Korean|Greek|Tex-Mex|Latin American|Southern|Halal|Caribbean|Hawaiian|Tapas/Small Plates\\\n",
    "    |Pakistani|French|Filipino|Cajun/Creole|Portuguese|Taiwanese|Persian/Iranian|Salvadoran|Kosher|Cantonese|African\\\n",
    "    |Spanish|Ethiopian|British', regex=True)]\n",
    "\n",
    "FinalDF.head()\n"
   ]
  },
  {
   "cell_type": "code",
   "execution_count": null,
   "metadata": {
    "scrolled": true
   },
   "outputs": [],
   "source": [
    "FinalDF.categories.value_counts().head(45)"
   ]
  },
  {
   "cell_type": "code",
   "execution_count": null,
   "metadata": {},
   "outputs": [],
   "source": [
    "# Check after updates, cities\n",
    "sorted(FinalDF['city'].unique())"
   ]
  },
  {
   "cell_type": "code",
   "execution_count": null,
   "metadata": {},
   "outputs": [],
   "source": [
    "# Check after updates, cuisines\n",
    "sorted(FinalDF['categories'].unique())"
   ]
  },
  {
   "cell_type": "code",
   "execution_count": null,
   "metadata": {},
   "outputs": [],
   "source": [
    "#Create FINAL CSV for the front end ppl to review as scrub continues V3\n",
    "#FinalDF.to_csv(\"Data/Yelp_FinalScrub.csv\")"
   ]
  },
  {
   "cell_type": "markdown",
   "metadata": {},
   "source": [
    "# #Mongo Connection (Eline)"
   ]
  },
  {
   "cell_type": "code",
   "execution_count": null,
   "metadata": {},
   "outputs": [],
   "source": [
    "import pymongo\n",
    "from pymongo import MongoClient"
   ]
  },
  {
   "cell_type": "code",
   "execution_count": null,
   "metadata": {},
   "outputs": [],
   "source": [
    "client = MongoClient('localhost', 27017)"
   ]
  },
  {
   "cell_type": "code",
   "execution_count": null,
   "metadata": {},
   "outputs": [],
   "source": [
    "db = client['YelpRestaurant']"
   ]
  },
  {
   "cell_type": "code",
   "execution_count": null,
   "metadata": {},
   "outputs": [],
   "source": [
    "db"
   ]
  },
  {
   "cell_type": "code",
   "execution_count": null,
   "metadata": {},
   "outputs": [],
   "source": [
    "FinalDF"
   ]
  },
  {
   "cell_type": "code",
   "execution_count": null,
   "metadata": {},
   "outputs": [],
   "source": [
    "import json\n",
    "conn = 'mongodb://localhost:27017'\n",
    "client = pymongo.MongoClient(conn)\n",
    "db = client.YelpRestaurant\n",
    "collection = db.YelpRestaurant\n",
    "collection.update({}, db, upsert=True)\n",
    "# data = json.loads(YelpRestaurant.to_json(orient='records'))\n",
    "# collection.insert_many(data)\n",
    "cursor = list(collection.find({}))\n",
    "for document in cursor:\n",
    "    print(document)"
   ]
  },
  {
   "cell_type": "code",
   "execution_count": null,
   "metadata": {},
   "outputs": [],
   "source": [
    "biz = "
   ]
  },
  {
   "cell_type": "markdown",
   "metadata": {},
   "source": [
    "### Transform Player DataFrames\n",
    "* Reduce Player DFs to only the 9 columns we want to evaluate\n",
    "* Update column headers to coorespond with schema \n",
    "* Add 'Season' column to DataFrames\n"
   ]
  },
  {
   "cell_type": "markdown",
   "metadata": {},
   "source": [
    "### Transform Game DataFrames\n",
    "* Remove the Box Score column from the Game Data\n",
    "* Update the Game Data DFs so team names match the 3 letter accrynyms on the Player Data DFs\n",
    "* Update column headers to coorespond with schema \n",
    "* Add 'Season' column "
   ]
  },
  {
   "cell_type": "markdown",
   "metadata": {},
   "source": [
    "### Connect to local database"
   ]
  },
  {
   "cell_type": "code",
   "execution_count": null,
   "metadata": {},
   "outputs": [],
   "source": [
    "# connection_string = \"postgres:postgres@localhost:5432/WNBA\"\n",
    "# engine = create_engine(f'postgresql://{connection_string}')"
   ]
  },
  {
   "cell_type": "code",
   "execution_count": null,
   "metadata": {},
   "outputs": [],
   "source": [
    "# # Confirm tables\n",
    "# engine.table_names()"
   ]
  },
  {
   "cell_type": "markdown",
   "metadata": {},
   "source": [
    "### Load DataFrames into database"
   ]
  },
  {
   "cell_type": "code",
   "execution_count": null,
   "metadata": {},
   "outputs": [],
   "source": [
    "# revised_game18_df.to_sql(name='Game_Data_18', con=engine, if_exists='append', index=True)\n",
    "\n",
    "# revised_game19_df.to_sql(name='Game_Data_19', con=engine, if_exists='append', index=True)\n",
    "\n",
    "# revised_player18_df.to_sql(name='Player_Data_18', con=engine, if_exists='append', index=True)\n",
    "\n",
    "# revised_player19_df.to_sql(name='Player_Data_19', con=engine, if_exists='append', index=True)\n"
   ]
  }
 ],
 "metadata": {
  "kernelspec": {
   "display_name": "Python 3",
   "language": "python",
   "name": "python3"
  },
  "language_info": {
   "codemirror_mode": {
    "name": "ipython",
    "version": 3
   },
   "file_extension": ".py",
   "mimetype": "text/x-python",
   "name": "python",
   "nbconvert_exporter": "python",
   "pygments_lexer": "ipython3",
   "version": "3.7.6"
  }
 },
 "nbformat": 4,
 "nbformat_minor": 2
}
