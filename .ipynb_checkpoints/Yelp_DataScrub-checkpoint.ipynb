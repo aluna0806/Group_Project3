{
 "cells": [
  {
   "cell_type": "code",
   "execution_count": 1,
   "metadata": {},
   "outputs": [],
   "source": [
    "import pandas as pd"
   ]
  },
  {
   "cell_type": "markdown",
   "metadata": {},
   "source": [
    "## Extract JSONs into DataFrames"
   ]
  },
  {
   "cell_type": "code",
   "execution_count": 2,
   "metadata": {
    "scrolled": true
   },
   "outputs": [],
   "source": [
    "# Establish paths to JSON files\n",
    "biz = \"Data/yelp_academic_dataset_business.json\"\n",
    "reviews = \"Data/yelp_academic_dataset_review.json\""
   ]
  },
  {
   "cell_type": "code",
   "execution_count": 3,
   "metadata": {},
   "outputs": [],
   "source": [
    "# Read Business data into Pandas\n",
    "biz_df = pd.read_json(biz, lines=True)\n",
    "\n",
    "#biz_df.head()"
   ]
  },
  {
   "cell_type": "markdown",
   "metadata": {},
   "source": [
    "## Review & Scrub Data"
   ]
  },
  {
   "cell_type": "code",
   "execution_count": 4,
   "metadata": {},
   "outputs": [
    {
     "data": {
      "text/plain": [
       "business_id      object\n",
       "name             object\n",
       "address          object\n",
       "city             object\n",
       "state            object\n",
       "postal_code      object\n",
       "latitude        float64\n",
       "longitude       float64\n",
       "stars           float64\n",
       "review_count      int64\n",
       "is_open           int64\n",
       "attributes       object\n",
       "categories       object\n",
       "hours            object\n",
       "dtype: object"
      ]
     },
     "execution_count": 4,
     "metadata": {},
     "output_type": "execute_result"
    }
   ],
   "source": [
    "#Assess Data Types... if needed\n",
    "biz_df.dtypes"
   ]
  },
  {
   "cell_type": "code",
   "execution_count": 5,
   "metadata": {},
   "outputs": [
    {
     "data": {
      "text/plain": [
       "Las Vegas     31631\n",
       "Toronto       20366\n",
       "Phoenix       20171\n",
       "Charlotte     10422\n",
       "Scottsdale     9342\n",
       "Name: city, dtype: int64"
      ]
     },
     "execution_count": 5,
     "metadata": {},
     "output_type": "execute_result"
    }
   ],
   "source": [
    "#Assess what cities to pull in: Las Vegas, Toronto, Phoenix, Charlotte. Not including Scottsdale as it's close to Phoenix\n",
    "biz_df['city'].value_counts().head()"
   ]
  },
  {
   "cell_type": "code",
   "execution_count": 6,
   "metadata": {},
   "outputs": [],
   "source": [
    "#Remove closed businesses, column is_open\n",
    "OpenBiz = biz_df[biz_df['is_open']==1]\n",
    "\n",
    "#OpenBiz.head()"
   ]
  },
  {
   "cell_type": "code",
   "execution_count": 7,
   "metadata": {},
   "outputs": [
    {
     "data": {
      "text/plain": [
       "1    168903\n",
       "Name: is_open, dtype: int64"
      ]
     },
     "execution_count": 7,
     "metadata": {},
     "output_type": "execute_result"
    }
   ],
   "source": [
    "#Check if \"0\" were removed\n",
    "OpenBiz['is_open'].value_counts().head(10)\n"
   ]
  },
  {
   "cell_type": "code",
   "execution_count": 8,
   "metadata": {},
   "outputs": [],
   "source": [
    "#Drop \"is_open\" as it is no longer needed\n",
    "biz_df2 = OpenBiz.drop('is_open', axis=1)\n",
    "\n",
    "#biz_df2.head()"
   ]
  },
  {
   "cell_type": "code",
   "execution_count": 9,
   "metadata": {
    "scrolled": true
   },
   "outputs": [],
   "source": [
    "#Split categories (strings) in to their own row\n",
    "Categories = biz_df2.assign(categories = biz_df2.categories.str.split(',')).explode('categories')\n",
    "\n",
    "# Categories.head()"
   ]
  },
  {
   "cell_type": "code",
   "execution_count": 10,
   "metadata": {
    "scrolled": true
   },
   "outputs": [
    {
     "data": {
      "text/plain": [
       " Restaurants                 30776\n",
       " Shopping                    21555\n",
       " Food                        18475\n",
       " Home Services               14886\n",
       "Restaurants                  13189\n",
       "                             ...  \n",
       "Coffeeshops                      1\n",
       "Neuropathologists                1\n",
       "Product Design                   1\n",
       "Music Production Services        1\n",
       " Toxicologists                   1\n",
       "Name: categories, Length: 2505, dtype: int64"
      ]
     },
     "execution_count": 10,
     "metadata": {},
     "output_type": "execute_result"
    }
   ],
   "source": [
    "#Check category counts, \"Restaurants\" = 30776 & \" Restaurants\" = 13189\n",
    "\n",
    "Categories.categories.value_counts()"
   ]
  },
  {
   "cell_type": "code",
   "execution_count": 11,
   "metadata": {},
   "outputs": [],
   "source": [
    "#Update \" Restaurants\" to just \"Restaurants\"\n",
    "Categories['categories'] = Categories['categories'].replace(\n",
    "    {' Restaurants': 'Restaurants'})"
   ]
  },
  {
   "cell_type": "code",
   "execution_count": 12,
   "metadata": {},
   "outputs": [
    {
     "data": {
      "text/plain": [
       "Restaurants                43965\n",
       " Shopping                  21555\n",
       " Food                      18475\n",
       " Home Services             14886\n",
       " Health & Medical          12758\n",
       "                           ...  \n",
       " Sikh Temples                  1\n",
       "Bar Crawl                      1\n",
       "Surf Schools                   1\n",
       "Tubing                         1\n",
       "Misting System Services        1\n",
       "Name: categories, Length: 2504, dtype: int64"
      ]
     },
     "execution_count": 12,
     "metadata": {},
     "output_type": "execute_result"
    }
   ],
   "source": [
    "#Check category counts... checks out\n",
    "\n",
    "Categories.categories.value_counts()"
   ]
  },
  {
   "cell_type": "code",
   "execution_count": 13,
   "metadata": {},
   "outputs": [],
   "source": [
    "#Create CSV for the front end ppl to review as scrub continues\n",
    "#Categories.to_csv(\"Data/Yelp_InitialScrub.csv\")"
   ]
  },
  {
   "cell_type": "code",
   "execution_count": 14,
   "metadata": {},
   "outputs": [],
   "source": [
    "# Establish paths to CSV path\n",
    "biz2 = \"Data/Yelp_InitialScrub.csv\""
   ]
  },
  {
   "cell_type": "code",
   "execution_count": 15,
   "metadata": {},
   "outputs": [],
   "source": [
    "bizDF = pd.read_csv(biz2)\n",
    "#bizDF.head()"
   ]
  },
  {
   "cell_type": "code",
   "execution_count": 16,
   "metadata": {
    "scrolled": true
   },
   "outputs": [],
   "source": [
    "Attributes = bizDF.assign(attributes = bizDF.attributes.str.split(',')).explode('attributes')\n",
    "#Attributes.head()"
   ]
  },
  {
   "cell_type": "code",
   "execution_count": 17,
   "metadata": {
    "scrolled": true
   },
   "outputs": [],
   "source": [
    "#Attributes.dtypes... attributes is an object"
   ]
  },
  {
   "cell_type": "code",
   "execution_count": 18,
   "metadata": {
    "scrolled": true
   },
   "outputs": [
    {
     "data": {
      "text/plain": [
       "0         {'BusinessAcceptsCreditCards': 'True'\n",
       "0                         'BikeParking': 'True'\n",
       "0                        'GoodForKids': 'False'\n",
       "0          'BusinessParking': \"{'garage': False\n",
       "0                               'street': False\n",
       "                          ...                  \n",
       "715200                                      nan\n",
       "715201                                      nan\n",
       "715202                                      nan\n",
       "715203                                      nan\n",
       "715204                                      nan\n",
       "Name: attributes, Length: 9034994, dtype: object"
      ]
     },
     "execution_count": 18,
     "metadata": {},
     "output_type": "execute_result"
    }
   ],
   "source": [
    "Attributes['attributes'].astype(str)"
   ]
  },
  {
   "cell_type": "code",
   "execution_count": 19,
   "metadata": {
    "scrolled": true
   },
   "outputs": [
    {
     "data": {
      "text/plain": [
       " 'RestaurantsTakeOut': 'True'      159535\n",
       " 'RestaurantsTakeOut': 'False'      19005\n",
       "{'RestaurantsTakeOut': 'True'       15317\n",
       " 'RestaurantsTakeOut': 'True'}      11584\n",
       " 'RestaurantsTakeOut': 'False'}      3015\n",
       "{'RestaurantsTakeOut': 'False'       1840\n",
       " 'RestaurantsTakeOut': 'None'         384\n",
       "{'RestaurantsTakeOut': 'True'}        169\n",
       " 'RestaurantsTakeOut': 'None'}        142\n",
       "{'RestaurantsTakeOut': 'False'}        79\n",
       "{'RestaurantsTakeOut': 'None'          42\n",
       "Name: attributes, dtype: int64"
      ]
     },
     "execution_count": 19,
     "metadata": {},
     "output_type": "execute_result"
    }
   ],
   "source": [
    "#Pull all attributes that contain info we want: Restaurants NEED CUISINE INFO\n",
    "Attributes[Attributes['attributes'].str.contains('RestaurantsTakeOut', case=True, na=False)].attributes.value_counts()"
   ]
  },
  {
   "cell_type": "code",
   "execution_count": 20,
   "metadata": {
    "scrolled": true
   },
   "outputs": [],
   "source": [
    "#Only keep items that contain food restaurants, i.e. RestaurantsTakeOut\n",
    "\n",
    "biz_df3 = Attributes[Attributes['attributes'].str.contains(\"'RestaurantsTakeOut': 'True'\", na=False)]\n",
    "\n",
    "#biz_df3.head()"
   ]
  },
  {
   "cell_type": "code",
   "execution_count": 21,
   "metadata": {},
   "outputs": [
    {
     "data": {
      "text/plain": [
       "[\" 'RestaurantsTakeOut': 'True'\",\n",
       " \" 'RestaurantsTakeOut': 'True'}\",\n",
       " \"{'RestaurantsTakeOut': 'True'\",\n",
       " \"{'RestaurantsTakeOut': 'True'}\"]"
      ]
     },
     "execution_count": 21,
     "metadata": {},
     "output_type": "execute_result"
    }
   ],
   "source": [
    "# Check that attributes drill down worked\n",
    "sorted(biz_df3['attributes'].unique())"
   ]
  },
  {
   "cell_type": "code",
   "execution_count": 22,
   "metadata": {},
   "outputs": [],
   "source": [
    "# Check for repeats/spelling\n",
    "#sorted(biz_df3['city'].unique())"
   ]
  },
  {
   "cell_type": "code",
   "execution_count": 23,
   "metadata": {
    "scrolled": true
   },
   "outputs": [
    {
     "name": "stderr",
     "output_type": "stream",
     "text": [
      "/Users/aluna/opt/anaconda3/lib/python3.7/site-packages/pandas/core/indexing.py:965: SettingWithCopyWarning: \n",
      "A value is trying to be set on a copy of a slice from a DataFrame.\n",
      "Try using .loc[row_indexer,col_indexer] = value instead\n",
      "\n",
      "See the caveats in the documentation: https://pandas.pydata.org/pandas-docs/stable/user_guide/indexing.html#returning-a-view-versus-a-copy\n",
      "  self.obj[item] = s\n"
     ]
    }
   ],
   "source": [
    "#Update Las Vegas names to be uniform. MANY spelling errors in data\n",
    "\n",
    "biz_df3.loc[:,'city'] = biz_df3.loc[:,'city'].replace(\n",
    "    ['C Las Vegas', 'Henderson and Las Vegas','Lake Las Vegas','Las  Vegas','LAS VEGAS AP','Las Vegas East'\\\n",
    "     ,'Las Vegas Nevada','Las Vegas Nv','Las Vegas,','Las Vegas, Nevada','Las Vegas, NV','Las Vegass'\\\n",
    "     ,'N E Las Vegas','N Las Vegas','N W Las Vegas','N. Las Vegas','N.Las Vegas','North Las Vegas','South Las Vegas'\\\n",
    "     ,'West Las Vegass','Las vegas','LAS VEGAS'] , 'Las Vegas')\n"
   ]
  },
  {
   "cell_type": "code",
   "execution_count": 24,
   "metadata": {},
   "outputs": [],
   "source": [
    "# Check after updates\n",
    "#sorted(biz_df3['city'].unique())"
   ]
  },
  {
   "cell_type": "code",
   "execution_count": 25,
   "metadata": {
    "scrolled": true
   },
   "outputs": [],
   "source": [
    "#Update Charlotte names to be uniform. MANY spelling errors in data\n",
    "\n",
    "biz_df3.loc[:,'city'] = biz_df3.loc[:,'city'].replace(\n",
    "    ['North Charlotte', 'South Charlotte','Charotte'] , 'Charlotte')"
   ]
  },
  {
   "cell_type": "code",
   "execution_count": 26,
   "metadata": {},
   "outputs": [],
   "source": [
    "# Check after updates\n",
    "#sorted(biz_df3['city'].unique())"
   ]
  },
  {
   "cell_type": "code",
   "execution_count": 27,
   "metadata": {},
   "outputs": [],
   "source": [
    "#Update Toronto names to be uniform. MANY spelling errors in data\n",
    "\n",
    "biz_df3.loc[:,'city'] = biz_df3.loc[:,'city'].replace(\n",
    "    ['Downtown Toronto', 'North Toronto','TORONTO - DANFORTH (OT)','TORONTO - FRONT ST (OT)','Toronto Division'\\\n",
    "     ,'Toronto-Etobicoke','Toronto-North York','Toronto-West','West Toronto','Tornto'] , 'Toronto')"
   ]
  },
  {
   "cell_type": "code",
   "execution_count": 28,
   "metadata": {},
   "outputs": [],
   "source": [
    "# Check after updates\n",
    "#sorted(biz_df3['city'].unique())"
   ]
  },
  {
   "cell_type": "code",
   "execution_count": 29,
   "metadata": {},
   "outputs": [],
   "source": [
    "biz_df3.loc[:,'city'] = biz_df3.loc[:,'city'].replace(\n",
    "    ['Metro Phoenix', 'North Phoenix','PHOENIX AP','Phoenix AZ','Phoenix Valley','Phoenix,','Phoenix,AZ'\\\n",
    "     ,'Phoneix','Phonenix,','Phoniex','Phx'],'Phoenix')"
   ]
  },
  {
   "cell_type": "code",
   "execution_count": 30,
   "metadata": {},
   "outputs": [],
   "source": [
    "# Check after updates\n",
    "#sorted(biz_df3['city'].unique())"
   ]
  },
  {
   "cell_type": "code",
   "execution_count": 31,
   "metadata": {
    "scrolled": true
   },
   "outputs": [],
   "source": [
    "# ONLY keep items in City: Charlotte, Las Vegas, Phoenix, Toronto\n",
    "\n",
    "biz_df4 = biz_df3[biz_df3['city'].str.contains('Charlotte|Las Vegas|Phoenix|Toronto', regex=True)]\n",
    "\n",
    "#biz_df4.head()"
   ]
  },
  {
   "cell_type": "code",
   "execution_count": 32,
   "metadata": {
    "scrolled": false
   },
   "outputs": [
    {
     "data": {
      "text/plain": [
       "['Charlotte', 'Las Vegas', 'Phoenix', 'Toronto']"
      ]
     },
     "execution_count": 32,
     "metadata": {},
     "output_type": "execute_result"
    }
   ],
   "source": [
    "# Check after updates\n",
    "sorted(biz_df4['city'].unique())"
   ]
  },
  {
   "cell_type": "code",
   "execution_count": 33,
   "metadata": {},
   "outputs": [],
   "source": [
    "#Create CSV for the front end ppl to review as scrub continues V2\n",
    "#biz_df4.to_csv(\"Data/Yelp_InitialScrubV2.csv\")"
   ]
  },
  {
   "cell_type": "code",
   "execution_count": 34,
   "metadata": {},
   "outputs": [],
   "source": [
    "#Categories to filter through\n",
    "#sorted(biz_df4['categories'].unique())"
   ]
  },
  {
   "cell_type": "code",
   "execution_count": 35,
   "metadata": {
    "scrolled": true
   },
   "outputs": [
    {
     "data": {
      "text/plain": [
       " Restaurants              8688\n",
       " Food                     4741\n",
       "Restaurants               3673\n",
       " Fast Food                1754\n",
       "Food                      1577\n",
       "                          ... \n",
       " Medical Centers             1\n",
       " Baby Gear & Furniture       1\n",
       " Martial Arts                1\n",
       "Themed Cafes                 1\n",
       " Wine Tasting Classes        1\n",
       "Name: categories, Length: 753, dtype: int64"
      ]
     },
     "execution_count": 35,
     "metadata": {},
     "output_type": "execute_result"
    }
   ],
   "source": [
    "biz_df4.categories.value_counts()"
   ]
  },
  {
   "cell_type": "code",
   "execution_count": 36,
   "metadata": {},
   "outputs": [],
   "source": [
    "#Update \" Restaurants\" to just \"Restaurants\"\n",
    "biz_df4.loc[:,'categories'] = biz_df4.loc[:,'categories'].replace(\n",
    "    [' Food'] , 'Food')"
   ]
  },
  {
   "cell_type": "code",
   "execution_count": 37,
   "metadata": {},
   "outputs": [],
   "source": [
    "biz_df4.loc[:,'categories'] = biz_df4.loc[:,'categories'].replace(\n",
    "    [' Restaurants'], 'Restaurants')"
   ]
  },
  {
   "cell_type": "code",
   "execution_count": 38,
   "metadata": {},
   "outputs": [
    {
     "data": {
      "text/plain": [
       "Restaurants                   12361\n",
       "Food                           6318\n",
       " Fast Food                     1754\n",
       " Nightlife                     1482\n",
       " Bars                          1478\n",
       " Coffee & Tea                  1469\n",
       " Sandwiches                    1376\n",
       " Breakfast & Brunch            1284\n",
       " American (Traditional)        1186\n",
       " Burgers                       1122\n",
       " Mexican                       1081\n",
       " Pizza                          945\n",
       " Specialty Food                 767\n",
       " American (New)                 750\n",
       " Desserts                       689\n",
       " Chinese                        658\n",
       " Italian                        651\n",
       " Event Planning & Services      648\n",
       " Salad                          644\n",
       " Bakeries                       591\n",
       " Cafes                          583\n",
       " Chicken Wings                  581\n",
       "Fast Food                       532\n",
       "Coffee & Tea                    527\n",
       " Seafood                        512\n",
       "Name: categories, dtype: int64"
      ]
     },
     "execution_count": 38,
     "metadata": {},
     "output_type": "execute_result"
    }
   ],
   "source": [
    "biz_df4.categories.value_counts().head(25)"
   ]
  },
  {
   "cell_type": "code",
   "execution_count": 39,
   "metadata": {},
   "outputs": [],
   "source": [
    "#Remove Restaurants & Food as these are typically double qualifiers to cuisines\n",
    "\n",
    "biz_df5 = biz_df4[~biz_df4['categories'].str.contains('Restaurants|Food| Nightlife| Bars|Bars| Coffee & Tea| Sandwiches|\\\n",
    "    | Breakfast & Brunch| Specialty Food| Desserts| Event Planning & Services| Bakeries| Cafes|Cafes| Chicken Wings|\\\n",
    "    |Coffee & Tea| Salad| Caterers| Grocery|Sandwiches| Ice Cream & Frozen Yogurt|Pizza| Wine & Spirits| Delis|\\\n",
    "    | Shopping| Vegetarian| Tacos| Beer| Burgers| Convenience Store|Nightlife| Vegan|Breakfast & Brunch| Diners|Bars|\\\n",
    "    | Gluten-Free| Gas Stations| Soup|Desserts| Automotive|Bakeries| Chicken Shop| Arts & Entertainment|Grocery|Cafes|\\\n",
    "    | Bubble Tea|Chicken Wings| Noodles|Ice Cream & Frozen Yogurt|Salad| Donuts| Health Markets| Lounges| Hot Dogs|\\\n",
    "    | Drugstores| Venues & Event Spaces| Buffets| Bagels|Event Planning & Services| Tea Rooms|Delis| Breweries|\\\n",
    "    |Caterers| Ramen| Custom Cakes| Meat Shops| Street Vendors| Cupcakes| Flowers & Gifts| Chocolatiers & Shops|\\\n",
    "    |Diners| Local Flavor|Beer|Shopping|Donuts| Fish & Chips|Convenience Store| Shaved Ice| Poke|Burgers| Dim Sum|\\\n",
    "    |Bubble Tea|Vegetarian| Hotels & Travel| Patisserie/Cake Shop| Music Venue|Gas Station| Creperies| Fashion|\\\n",
    "    | Farmers Market|Vegan| Karaoke| Casinos| Coffee Roasteries| Department Stores|Soup| Seafood Markets|\\\n",
    "    | Fruits & Veggies| Organic Stores|Hot Dogs|Gluten-Free| Acai Bowls|Noodles| Cheesesteaks|Automotive| Active Life|\\\n",
    "    | Hotels| Wraps| Candy Stores| Butcher|Chicken Shop| Cheese Shops| Service Stations| Kebab|Bagels| Gelato|\\\n",
    "    | Health & Medical|Tea Rooms| Waffles| Falafel| Party & Event Planning|Buffets| Pasta Shops|Local Flavor|\\\n",
    "    | Modern European|Health Markets| Beauty & Spas| Poutineries|Tacos| Personal Chefs| Florists| Gift Shops|Ramen|\\\n",
    "    | New Mexican Cuisine|Seafood Markets| Japanese Curry|New Mexican Cuisine| Traditional Chinese Medicine|\\\n",
    "    |Japanese Curry',na=False)]"
   ]
  },
  {
   "cell_type": "code",
   "execution_count": 40,
   "metadata": {},
   "outputs": [
    {
     "data": {
      "text/plain": [
       " American (Traditional)    1186\n",
       " Mexican                   1081\n",
       " American (New)             750\n",
       " Chinese                    658\n",
       " Italian                    651\n",
       " Seafood                    512\n",
       " Japanese                   480\n",
       "Mexican                     443\n",
       " Asian Fusion               382\n",
       "American (Traditional)      308\n",
       " Pubs                       288\n",
       " Mediterranean              288\n",
       " Barbeque                   258\n",
       "Chinese                     251\n",
       " Canadian (New)             223\n",
       " Thai                       223\n",
       " Middle Eastern             220\n",
       "Italian                     209\n",
       " Indian                     198\n",
       "Japanese                    198\n",
       " Steakhouses                186\n",
       " Tex-Mex                    185\n",
       " Vietnamese                 169\n",
       " Greek                      165\n",
       " Korean                     161\n",
       "American (New)              159\n",
       " Halal                      139\n",
       " Southern                   139\n",
       " Latin American             135\n",
       "Seafood                     117\n",
       "Thai                        113\n",
       " Gastropubs                 110\n",
       " Hawaiian                   110\n",
       " Caribbean                  106\n",
       "Mediterranean               102\n",
       "Asian Fusion                 98\n",
       " Tapas/Small Plates          97\n",
       "Barbeque                     95\n",
       "Indian                       88\n",
       "Vietnamese                   80\n",
       " French                      73\n",
       "Korean                       61\n",
       " Filipino                    58\n",
       " Cajun/Creole                58\n",
       " Pakistani                   56\n",
       "Middle Eastern               56\n",
       "Steakhouses                  55\n",
       "Greek                        54\n",
       "Canadian (New)               54\n",
       "Pubs                         52\n",
       "Name: categories, dtype: int64"
      ]
     },
     "execution_count": 40,
     "metadata": {},
     "output_type": "execute_result"
    }
   ],
   "source": [
    "biz_df5.categories.value_counts().head(50)"
   ]
  },
  {
   "cell_type": "code",
   "execution_count": 41,
   "metadata": {},
   "outputs": [],
   "source": [
    "#Edit spaces out of names to make unique\n",
    "\n",
    "biz_df5.loc[:,'categories'] = biz_df5.loc[:,'categories'].replace(\n",
    "    [' American (New)'], 'American (New)')"
   ]
  },
  {
   "cell_type": "code",
   "execution_count": 42,
   "metadata": {
    "scrolled": true
   },
   "outputs": [],
   "source": [
    "biz_df5.loc[:,'categories'] = biz_df5.loc[:,'categories'].replace(\n",
    "    [' Asian Fusion'], 'Asian Fusion')"
   ]
  },
  {
   "cell_type": "code",
   "execution_count": 43,
   "metadata": {
    "scrolled": true
   },
   "outputs": [],
   "source": [
    "biz_df5.loc[:,'categories'] = biz_df5.loc[:,'categories'].replace(\n",
    "    [' American (Traditional)'], 'American (Traditional)')"
   ]
  },
  {
   "cell_type": "code",
   "execution_count": 44,
   "metadata": {},
   "outputs": [
    {
     "data": {
      "text/plain": [
       "American (Traditional)    1494\n",
       " Mexican                  1081\n",
       "American (New)             909\n",
       " Chinese                   658\n",
       " Italian                   651\n",
       " Seafood                   512\n",
       "Asian Fusion               480\n",
       " Japanese                  480\n",
       "Mexican                    443\n",
       " Mediterranean             288\n",
       "Name: categories, dtype: int64"
      ]
     },
     "execution_count": 44,
     "metadata": {},
     "output_type": "execute_result"
    }
   ],
   "source": [
    "biz_df5.categories.value_counts().head(10)"
   ]
  },
  {
   "cell_type": "code",
   "execution_count": 45,
   "metadata": {
    "scrolled": true
   },
   "outputs": [],
   "source": [
    "biz_df5.loc[:,'categories'] = biz_df5.loc[:,'categories'].replace(\n",
    "    [' Barbeque'], 'Barbeque')"
   ]
  },
  {
   "cell_type": "code",
   "execution_count": 46,
   "metadata": {},
   "outputs": [],
   "source": [
    "biz_df5.loc[:,'categories'] = biz_df5.loc[:,'categories'].replace(\n",
    "    [' Cajun/Creole'], 'Cajun/Creole')"
   ]
  },
  {
   "cell_type": "code",
   "execution_count": 47,
   "metadata": {},
   "outputs": [],
   "source": [
    "biz_df5.loc[:,'categories'] = biz_df5.loc[:,'categories'].replace(\n",
    "    [' Canadian (New)'], 'Canadian (New)')"
   ]
  },
  {
   "cell_type": "code",
   "execution_count": 48,
   "metadata": {},
   "outputs": [],
   "source": [
    "biz_df5.loc[:,'categories'] = biz_df5.loc[:,'categories'].replace(\n",
    "    [' Caribbean'], 'Caribbean')"
   ]
  },
  {
   "cell_type": "code",
   "execution_count": 49,
   "metadata": {},
   "outputs": [
    {
     "data": {
      "text/plain": [
       "American (Traditional)    1494\n",
       " Mexican                  1081\n",
       "American (New)             909\n",
       " Chinese                   658\n",
       " Italian                   651\n",
       " Seafood                   512\n",
       "Asian Fusion               480\n",
       " Japanese                  480\n",
       "Mexican                    443\n",
       "Barbeque                   353\n",
       "Name: categories, dtype: int64"
      ]
     },
     "execution_count": 49,
     "metadata": {},
     "output_type": "execute_result"
    }
   ],
   "source": [
    "biz_df5.categories.value_counts().head(10)"
   ]
  },
  {
   "cell_type": "code",
   "execution_count": 50,
   "metadata": {
    "scrolled": true
   },
   "outputs": [],
   "source": [
    "biz_df5.loc[:,'categories'] = biz_df5.loc[:,'categories'].replace(\n",
    "    [' Chinese'], 'Chinese')"
   ]
  },
  {
   "cell_type": "code",
   "execution_count": 51,
   "metadata": {},
   "outputs": [],
   "source": [
    "biz_df5.loc[:,'categories'] = biz_df5.loc[:,'categories'].replace(\n",
    "    [' French'], 'French')"
   ]
  },
  {
   "cell_type": "code",
   "execution_count": 52,
   "metadata": {},
   "outputs": [],
   "source": [
    "biz_df5.loc[:,'categories'] = biz_df5.loc[:,'categories'].replace(\n",
    "    [' Greek'], 'Greek')"
   ]
  },
  {
   "cell_type": "code",
   "execution_count": 53,
   "metadata": {},
   "outputs": [],
   "source": [
    "biz_df5.loc[:,'categories'] = biz_df5.loc[:,'categories'].replace(\n",
    "    [' Halal'], 'Halal')"
   ]
  },
  {
   "cell_type": "code",
   "execution_count": 54,
   "metadata": {},
   "outputs": [],
   "source": [
    "biz_df5.loc[:,'categories'] = biz_df5.loc[:,'categories'].replace(\n",
    "    [' Hawaiian'], 'Hawaiian')"
   ]
  },
  {
   "cell_type": "code",
   "execution_count": 55,
   "metadata": {},
   "outputs": [],
   "source": [
    "biz_df5.loc[:,'categories'] = biz_df5.loc[:,'categories'].replace(\n",
    "    [' Indian'], 'Indian')"
   ]
  },
  {
   "cell_type": "code",
   "execution_count": 56,
   "metadata": {},
   "outputs": [],
   "source": [
    "biz_df5.loc[:,'categories'] = biz_df5.loc[:,'categories'].replace(\n",
    "    [' Italian'], 'Italian')"
   ]
  },
  {
   "cell_type": "code",
   "execution_count": 57,
   "metadata": {},
   "outputs": [],
   "source": [
    "biz_df5.loc[:,'categories'] = biz_df5.loc[:,'categories'].replace(\n",
    "    [' Japanese'], 'Japanese')"
   ]
  },
  {
   "cell_type": "code",
   "execution_count": 58,
   "metadata": {},
   "outputs": [],
   "source": [
    "biz_df5.loc[:,'categories'] = biz_df5.loc[:,'categories'].replace(\n",
    "    [' Korean'], 'Korean')"
   ]
  },
  {
   "cell_type": "code",
   "execution_count": 59,
   "metadata": {},
   "outputs": [],
   "source": [
    "biz_df5.loc[:,'categories'] = biz_df5.loc[:,'categories'].replace(\n",
    "    [' Latin American'], 'Latin American')"
   ]
  },
  {
   "cell_type": "code",
   "execution_count": 60,
   "metadata": {},
   "outputs": [],
   "source": [
    "biz_df5.loc[:,'categories'] = biz_df5.loc[:,'categories'].replace(\n",
    "    [' Mexican'], 'Mexican')"
   ]
  },
  {
   "cell_type": "code",
   "execution_count": 61,
   "metadata": {},
   "outputs": [],
   "source": [
    "biz_df5.loc[:,'categories'] = biz_df5.loc[:,'categories'].replace(\n",
    "    [' Mediterranean'], 'Mediterranean')"
   ]
  },
  {
   "cell_type": "code",
   "execution_count": 62,
   "metadata": {},
   "outputs": [],
   "source": [
    "biz_df5.loc[:,'categories'] = biz_df5.loc[:,'categories'].replace(\n",
    "    [' Middle Eastern'], 'Middle Eastern')"
   ]
  },
  {
   "cell_type": "code",
   "execution_count": 63,
   "metadata": {},
   "outputs": [],
   "source": [
    "biz_df5.loc[:,'categories'] = biz_df5.loc[:,'categories'].replace(\n",
    "    [' Pubs'], 'Pubs')"
   ]
  },
  {
   "cell_type": "code",
   "execution_count": 64,
   "metadata": {},
   "outputs": [],
   "source": [
    "biz_df5.loc[:,'categories'] = biz_df5.loc[:,'categories'].replace(\n",
    "    ['Pubs'], 'Gastropubs')"
   ]
  },
  {
   "cell_type": "code",
   "execution_count": 65,
   "metadata": {},
   "outputs": [],
   "source": [
    "biz_df5.loc[:,'categories'] = biz_df5.loc[:,'categories'].replace(\n",
    "    [' Gastropubs'], 'Gastropubs')"
   ]
  },
  {
   "cell_type": "code",
   "execution_count": 66,
   "metadata": {},
   "outputs": [],
   "source": [
    "biz_df5.loc[:,'categories'] = biz_df5.loc[:,'categories'].replace(\n",
    "    [' Seafood'], 'Seafood')"
   ]
  },
  {
   "cell_type": "code",
   "execution_count": 67,
   "metadata": {},
   "outputs": [],
   "source": [
    "biz_df5.loc[:,'categories'] = biz_df5.loc[:,'categories'].replace(\n",
    "    [' Southern'], 'Southern')"
   ]
  },
  {
   "cell_type": "code",
   "execution_count": 68,
   "metadata": {},
   "outputs": [],
   "source": [
    "biz_df5.loc[:,'categories'] = biz_df5.loc[:,'categories'].replace(\n",
    "    [' Steakhouses'], 'Steakhouses')"
   ]
  },
  {
   "cell_type": "code",
   "execution_count": 69,
   "metadata": {},
   "outputs": [],
   "source": [
    "biz_df5.loc[:,'categories'] = biz_df5.loc[:,'categories'].replace(\n",
    "    [' Tapas/Small Plates'], 'Tapas/Small Plates')"
   ]
  },
  {
   "cell_type": "code",
   "execution_count": 70,
   "metadata": {},
   "outputs": [],
   "source": [
    "biz_df5.loc[:,'categories'] = biz_df5.loc[:,'categories'].replace(\n",
    "    [' Tex-Mex'], 'Tex-Mex')"
   ]
  },
  {
   "cell_type": "code",
   "execution_count": 71,
   "metadata": {},
   "outputs": [],
   "source": [
    "biz_df5.loc[:,'categories'] = biz_df5.loc[:,'categories'].replace(\n",
    "    [' Thai'], 'Thai')"
   ]
  },
  {
   "cell_type": "code",
   "execution_count": 72,
   "metadata": {},
   "outputs": [],
   "source": [
    "biz_df5.loc[:,'categories'] = biz_df5.loc[:,'categories'].replace(\n",
    "    [' Filipino'], 'Filipino')"
   ]
  },
  {
   "cell_type": "code",
   "execution_count": 73,
   "metadata": {},
   "outputs": [],
   "source": [
    "biz_df5.loc[:,'categories'] = biz_df5.loc[:,'categories'].replace(\n",
    "    [' Pakistani'], 'Pakistani')"
   ]
  },
  {
   "cell_type": "code",
   "execution_count": 74,
   "metadata": {},
   "outputs": [],
   "source": [
    "biz_df5.loc[:,'categories'] = biz_df5.loc[:,'categories'].replace(\n",
    "    [' Taiwanese'], 'Taiwanese')"
   ]
  },
  {
   "cell_type": "code",
   "execution_count": 75,
   "metadata": {},
   "outputs": [],
   "source": [
    "biz_df5.loc[:,'categories'] = biz_df5.loc[:,'categories'].replace(\n",
    "    [' Portuguese'], 'Portuguese')"
   ]
  },
  {
   "cell_type": "code",
   "execution_count": 76,
   "metadata": {},
   "outputs": [],
   "source": [
    "biz_df5.loc[:,'categories'] = biz_df5.loc[:,'categories'].replace(\n",
    "    [' Persian/Iranian'], 'Persian/Iranian')"
   ]
  },
  {
   "cell_type": "code",
   "execution_count": 77,
   "metadata": {},
   "outputs": [],
   "source": [
    "biz_df5.loc[:,'categories'] = biz_df5.loc[:,'categories'].replace(\n",
    "    [' Salvadoran'], 'Salvadoran')"
   ]
  },
  {
   "cell_type": "code",
   "execution_count": 78,
   "metadata": {},
   "outputs": [],
   "source": [
    "biz_df5.loc[:,'categories'] = biz_df5.loc[:,'categories'].replace(\n",
    "    [' Kosher'], 'Kosher')"
   ]
  },
  {
   "cell_type": "code",
   "execution_count": 79,
   "metadata": {},
   "outputs": [],
   "source": [
    "biz_df5.loc[:,'categories'] = biz_df5.loc[:,'categories'].replace(\n",
    "    [' African'], 'African')"
   ]
  },
  {
   "cell_type": "code",
   "execution_count": 80,
   "metadata": {},
   "outputs": [],
   "source": [
    "biz_df5.loc[:,'categories'] = biz_df5.loc[:,'categories'].replace(\n",
    "    [' Spanish'], 'Spanish')"
   ]
  },
  {
   "cell_type": "code",
   "execution_count": 81,
   "metadata": {},
   "outputs": [],
   "source": [
    "biz_df5.loc[:,'categories'] = biz_df5.loc[:,'categories'].replace(\n",
    "    [' Cantonese'], 'Cantonese')"
   ]
  },
  {
   "cell_type": "code",
   "execution_count": 82,
   "metadata": {},
   "outputs": [],
   "source": [
    "biz_df5.loc[:,'categories'] = biz_df5.loc[:,'categories'].replace(\n",
    "    [' British'], 'British')"
   ]
  },
  {
   "cell_type": "code",
   "execution_count": 83,
   "metadata": {},
   "outputs": [],
   "source": [
    "biz_df5.loc[:,'categories'] = biz_df5.loc[:,'categories'].replace(\n",
    "    [' Irish'], 'Irish')"
   ]
  },
  {
   "cell_type": "code",
   "execution_count": 84,
   "metadata": {},
   "outputs": [],
   "source": [
    "biz_df5.loc[:,'categories'] = biz_df5.loc[:,'categories'].replace(\n",
    "    [' Turkish'], 'Turkish')"
   ]
  },
  {
   "cell_type": "code",
   "execution_count": 85,
   "metadata": {},
   "outputs": [],
   "source": [
    "biz_df5.loc[:,'categories'] = biz_df5.loc[:,'categories'].replace(\n",
    "    [' Ethiopian'], 'Ethiopian')"
   ]
  },
  {
   "cell_type": "code",
   "execution_count": 86,
   "metadata": {},
   "outputs": [],
   "source": [
    "biz_df5.loc[:,'categories'] = biz_df5.loc[:,'categories'].replace(\n",
    "    [' Vietnamese'], 'Vietnamese')"
   ]
  },
  {
   "cell_type": "code",
   "execution_count": 87,
   "metadata": {},
   "outputs": [
    {
     "data": {
      "text/plain": [
       "Mexican                   1524\n",
       "American (Traditional)    1494\n",
       "Chinese                    909\n",
       "American (New)             909\n",
       "Italian                    860\n",
       "Japanese                   678\n",
       "Seafood                    629\n",
       "Asian Fusion               480\n",
       "Gastropubs                 474\n",
       "Mediterranean              390\n",
       "Barbeque                   353\n",
       "Thai                       336\n",
       "Indian                     286\n",
       "Canadian (New)             277\n",
       "Middle Eastern             276\n",
       "Vietnamese                 249\n",
       "Steakhouses                241\n",
       "Korean                     222\n",
       "Greek                      219\n",
       "Tex-Mex                    215\n",
       "Latin American             174\n",
       "Southern                   170\n",
       "Halal                      166\n",
       "Caribbean                  158\n",
       "Hawaiian                   129\n",
       "Tapas/Small Plates         119\n",
       "French                      88\n",
       "Pakistani                   88\n",
       "Filipino                    83\n",
       "Cajun/Creole                74\n",
       "Taiwanese                   57\n",
       "Portuguese                  57\n",
       "Persian/Iranian             49\n",
       "Salvadoran                  43\n",
       "Cantonese                   41\n",
       "Kosher                      41\n",
       "African                     41\n",
       "Spanish                     38\n",
       "Ethiopian                   37\n",
       "British                     32\n",
       "Name: categories, dtype: int64"
      ]
     },
     "execution_count": 87,
     "metadata": {},
     "output_type": "execute_result"
    }
   ],
   "source": [
    "biz_df5.categories.value_counts().head(40)"
   ]
  },
  {
   "cell_type": "code",
   "execution_count": 88,
   "metadata": {
    "scrolled": true
   },
   "outputs": [
    {
     "name": "stderr",
     "output_type": "stream",
     "text": [
      "/Users/aluna/opt/anaconda3/lib/python3.7/site-packages/pandas/core/strings.py:1952: UserWarning: This pattern has match groups. To actually get the groups, use str.extract.\n",
      "  return func(self, *args, **kwargs)\n"
     ]
    },
    {
     "data": {
      "text/html": [
       "<div>\n",
       "<style scoped>\n",
       "    .dataframe tbody tr th:only-of-type {\n",
       "        vertical-align: middle;\n",
       "    }\n",
       "\n",
       "    .dataframe tbody tr th {\n",
       "        vertical-align: top;\n",
       "    }\n",
       "\n",
       "    .dataframe thead th {\n",
       "        text-align: right;\n",
       "    }\n",
       "</style>\n",
       "<table border=\"1\" class=\"dataframe\">\n",
       "  <thead>\n",
       "    <tr style=\"text-align: right;\">\n",
       "      <th></th>\n",
       "      <th>Unnamed: 0</th>\n",
       "      <th>business_id</th>\n",
       "      <th>name</th>\n",
       "      <th>address</th>\n",
       "      <th>city</th>\n",
       "      <th>state</th>\n",
       "      <th>postal_code</th>\n",
       "      <th>latitude</th>\n",
       "      <th>longitude</th>\n",
       "      <th>stars</th>\n",
       "      <th>review_count</th>\n",
       "      <th>attributes</th>\n",
       "      <th>categories</th>\n",
       "      <th>hours</th>\n",
       "    </tr>\n",
       "  </thead>\n",
       "  <tbody>\n",
       "    <tr>\n",
       "      <th>249</th>\n",
       "      <td>73</td>\n",
       "      <td>0QjROMVW9ACKjhSEfHqNCQ</td>\n",
       "      <td>Mi Mi Restaurant</td>\n",
       "      <td>688 Gerrard Street E</td>\n",
       "      <td>Toronto</td>\n",
       "      <td>ON</td>\n",
       "      <td>M4M 1Y3</td>\n",
       "      <td>43.666376</td>\n",
       "      <td>-79.348773</td>\n",
       "      <td>4.0</td>\n",
       "      <td>116</td>\n",
       "      <td>{'RestaurantsTakeOut': 'True'</td>\n",
       "      <td>Vietnamese</td>\n",
       "      <td>{'Monday': '11:0-22:0', 'Tuesday': '11:0-22:0'...</td>\n",
       "    </tr>\n",
       "    <tr>\n",
       "      <th>531</th>\n",
       "      <td>161</td>\n",
       "      <td>cicPsia8Wj-DNRkmLbD_xg</td>\n",
       "      <td>The Keg Steakhouse + Bar</td>\n",
       "      <td>2201 Yonge Street</td>\n",
       "      <td>Toronto</td>\n",
       "      <td>ON</td>\n",
       "      <td>M4S 2B2</td>\n",
       "      <td>43.705842</td>\n",
       "      <td>-79.397841</td>\n",
       "      <td>3.5</td>\n",
       "      <td>91</td>\n",
       "      <td>'RestaurantsTakeOut': 'True'</td>\n",
       "      <td>Steakhouses</td>\n",
       "      <td>{'Monday': '11:30-0:0', 'Tuesday': '11:30-0:0'...</td>\n",
       "    </tr>\n",
       "    <tr>\n",
       "      <th>534</th>\n",
       "      <td>161</td>\n",
       "      <td>cicPsia8Wj-DNRkmLbD_xg</td>\n",
       "      <td>The Keg Steakhouse + Bar</td>\n",
       "      <td>2201 Yonge Street</td>\n",
       "      <td>Toronto</td>\n",
       "      <td>ON</td>\n",
       "      <td>M4S 2B2</td>\n",
       "      <td>43.705842</td>\n",
       "      <td>-79.397841</td>\n",
       "      <td>3.5</td>\n",
       "      <td>91</td>\n",
       "      <td>'RestaurantsTakeOut': 'True'</td>\n",
       "      <td>Seafood</td>\n",
       "      <td>{'Monday': '11:30-0:0', 'Tuesday': '11:30-0:0'...</td>\n",
       "    </tr>\n",
       "    <tr>\n",
       "      <th>777</th>\n",
       "      <td>238</td>\n",
       "      <td>AN0bWhisCf6LN9eHZ7DQ3w</td>\n",
       "      <td>Los Olivos Ristorante</td>\n",
       "      <td>3759 E Desert Inn Rd</td>\n",
       "      <td>Las Vegas</td>\n",
       "      <td>NV</td>\n",
       "      <td>89121</td>\n",
       "      <td>36.129178</td>\n",
       "      <td>-115.092483</td>\n",
       "      <td>5.0</td>\n",
       "      <td>222</td>\n",
       "      <td>'RestaurantsTakeOut': 'True'</td>\n",
       "      <td>Italian</td>\n",
       "      <td>{'Monday': '0:0-0:0', 'Tuesday': '16:0-21:0', ...</td>\n",
       "    </tr>\n",
       "    <tr>\n",
       "      <th>806</th>\n",
       "      <td>246</td>\n",
       "      <td>AtD6B83S4Mbmq0t7iDnUVA</td>\n",
       "      <td>Veggie House</td>\n",
       "      <td>5115 Spring Mountain Rd, Ste 203</td>\n",
       "      <td>Las Vegas</td>\n",
       "      <td>NV</td>\n",
       "      <td>89146</td>\n",
       "      <td>36.125569</td>\n",
       "      <td>-115.210911</td>\n",
       "      <td>4.5</td>\n",
       "      <td>1142</td>\n",
       "      <td>'RestaurantsTakeOut': 'True'</td>\n",
       "      <td>Japanese</td>\n",
       "      <td>{'Monday': '11:30-21:30', 'Tuesday': '11:30-21...</td>\n",
       "    </tr>\n",
       "  </tbody>\n",
       "</table>\n",
       "</div>"
      ],
      "text/plain": [
       "     Unnamed: 0             business_id                      name  \\\n",
       "249          73  0QjROMVW9ACKjhSEfHqNCQ          Mi Mi Restaurant   \n",
       "531         161  cicPsia8Wj-DNRkmLbD_xg  The Keg Steakhouse + Bar   \n",
       "534         161  cicPsia8Wj-DNRkmLbD_xg  The Keg Steakhouse + Bar   \n",
       "777         238  AN0bWhisCf6LN9eHZ7DQ3w     Los Olivos Ristorante   \n",
       "806         246  AtD6B83S4Mbmq0t7iDnUVA              Veggie House   \n",
       "\n",
       "                              address       city state postal_code   latitude  \\\n",
       "249              688 Gerrard Street E    Toronto    ON     M4M 1Y3  43.666376   \n",
       "531                 2201 Yonge Street    Toronto    ON     M4S 2B2  43.705842   \n",
       "534                 2201 Yonge Street    Toronto    ON     M4S 2B2  43.705842   \n",
       "777              3759 E Desert Inn Rd  Las Vegas    NV       89121  36.129178   \n",
       "806  5115 Spring Mountain Rd, Ste 203  Las Vegas    NV       89146  36.125569   \n",
       "\n",
       "      longitude  stars  review_count                     attributes  \\\n",
       "249  -79.348773    4.0           116  {'RestaurantsTakeOut': 'True'   \n",
       "531  -79.397841    3.5            91   'RestaurantsTakeOut': 'True'   \n",
       "534  -79.397841    3.5            91   'RestaurantsTakeOut': 'True'   \n",
       "777 -115.092483    5.0           222   'RestaurantsTakeOut': 'True'   \n",
       "806 -115.210911    4.5          1142   'RestaurantsTakeOut': 'True'   \n",
       "\n",
       "      categories                                              hours  \n",
       "249   Vietnamese  {'Monday': '11:0-22:0', 'Tuesday': '11:0-22:0'...  \n",
       "531  Steakhouses  {'Monday': '11:30-0:0', 'Tuesday': '11:30-0:0'...  \n",
       "534      Seafood  {'Monday': '11:30-0:0', 'Tuesday': '11:30-0:0'...  \n",
       "777      Italian  {'Monday': '0:0-0:0', 'Tuesday': '16:0-21:0', ...  \n",
       "806     Japanese  {'Monday': '11:30-21:30', 'Tuesday': '11:30-21...  "
      ]
     },
     "execution_count": 88,
     "metadata": {},
     "output_type": "execute_result"
    }
   ],
   "source": [
    "# ONLY keep top 40 categories over all 4 cities\n",
    "\n",
    "FinalDF = biz_df5[biz_df5['categories'].str.contains('Mexican|American (Traditional)|Chinese|American (New)|Italian|\\\n",
    "    |Japanese|Seafood|Asian Fusion|Gastropubs|Mediterranean|Barbeque|Thai|Indian|Canadian (New)|Middle Eastern|\\\n",
    "    |Vietnamese|Steakhouses|Korean|Greek|Tex-Mex|Latin American|Southern|Halal|Caribbean|Hawaiian|Tapas/Small Plates\\\n",
    "    |Pakistani|French|Filipino|Cajun/Creole|Portuguese|Taiwanese|Persian/Iranian|Salvadoran|Kosher|Cantonese|African\\\n",
    "    |Spanish|Ethiopian|British', regex=True)]\n",
    "\n",
    "FinalDF.head()\n"
   ]
  },
  {
   "cell_type": "code",
   "execution_count": 108,
   "metadata": {
    "scrolled": true
   },
   "outputs": [
    {
     "data": {
      "text/plain": [
       "Mexican            1524\n",
       "Chinese             909\n",
       "Italian             860\n",
       "Japanese            678\n",
       "Seafood             629\n",
       "Asian Fusion        480\n",
       "Gastropubs          474\n",
       "Mediterranean       390\n",
       "Barbeque            353\n",
       "Thai                336\n",
       "Indian              286\n",
       "Middle Eastern      276\n",
       "Vietnamese          249\n",
       "Steakhouses         241\n",
       "Korean              222\n",
       "Greek               219\n",
       "Tex-Mex             215\n",
       "Latin American      174\n",
       "Southern            170\n",
       "Halal               166\n",
       "Caribbean           158\n",
       "Hawaiian            129\n",
       "French               88\n",
       "Pakistani            88\n",
       "Filipino             83\n",
       "Cajun/Creole         74\n",
       "Portuguese           57\n",
       "Taiwanese            57\n",
       "Persian/Iranian      49\n",
       "Salvadoran           43\n",
       "Cantonese            41\n",
       "Kosher               41\n",
       "Spanish              38\n",
       "Ethiopian            37\n",
       "British              32\n",
       "Name: categories, dtype: int64"
      ]
     },
     "execution_count": 108,
     "metadata": {},
     "output_type": "execute_result"
    }
   ],
   "source": [
    "FinalDF.categories.value_counts().head(45)"
   ]
  },
  {
   "cell_type": "code",
   "execution_count": 106,
   "metadata": {},
   "outputs": [
    {
     "data": {
      "text/plain": [
       "['Charlotte', 'Las Vegas', 'Phoenix', 'Toronto']"
      ]
     },
     "execution_count": 106,
     "metadata": {},
     "output_type": "execute_result"
    }
   ],
   "source": [
    "# Check after updates, cities\n",
    "sorted(FinalDF['city'].unique())"
   ]
  },
  {
   "cell_type": "code",
   "execution_count": 107,
   "metadata": {},
   "outputs": [
    {
     "data": {
      "text/plain": [
       "['Asian Fusion',\n",
       " 'Barbeque',\n",
       " 'British',\n",
       " 'Cajun/Creole',\n",
       " 'Cantonese',\n",
       " 'Caribbean',\n",
       " 'Chinese',\n",
       " 'Ethiopian',\n",
       " 'Filipino',\n",
       " 'French',\n",
       " 'Gastropubs',\n",
       " 'Greek',\n",
       " 'Halal',\n",
       " 'Hawaiian',\n",
       " 'Indian',\n",
       " 'Italian',\n",
       " 'Japanese',\n",
       " 'Korean',\n",
       " 'Kosher',\n",
       " 'Latin American',\n",
       " 'Mediterranean',\n",
       " 'Mexican',\n",
       " 'Middle Eastern',\n",
       " 'Pakistani',\n",
       " 'Persian/Iranian',\n",
       " 'Portuguese',\n",
       " 'Salvadoran',\n",
       " 'Seafood',\n",
       " 'Southern',\n",
       " 'Spanish',\n",
       " 'Steakhouses',\n",
       " 'Taiwanese',\n",
       " 'Tex-Mex',\n",
       " 'Thai',\n",
       " 'Vietnamese']"
      ]
     },
     "execution_count": 107,
     "metadata": {},
     "output_type": "execute_result"
    }
   ],
   "source": [
    "# Check after updates, cuisines\n",
    "sorted(FinalDF['categories'].unique())"
   ]
  },
  {
   "cell_type": "code",
   "execution_count": 90,
   "metadata": {},
   "outputs": [],
   "source": [
    "# #Redo cuisines we decided on in Saturday class\n",
    "# biz_df4['categories'] = biz_df4['categories'].replace(\n",
    "#     {' Thai': 'Thai'})"
   ]
  },
  {
   "cell_type": "code",
   "execution_count": 91,
   "metadata": {},
   "outputs": [],
   "source": [
    "#ONLY keep cuisines\n",
    "#biz_df4 = biz_df3[biz_df3['city'].str.contains('Charlotte|Las Vegas|Phoenix|Toronto', regex=True)]"
   ]
  },
  {
   "cell_type": "code",
   "execution_count": null,
   "metadata": {},
   "outputs": [],
   "source": []
  },
  {
   "cell_type": "code",
   "execution_count": null,
   "metadata": {},
   "outputs": [],
   "source": []
  },
  {
   "cell_type": "code",
   "execution_count": null,
   "metadata": {},
   "outputs": [],
   "source": []
  },
  {
   "cell_type": "code",
   "execution_count": 92,
   "metadata": {
    "scrolled": true
   },
   "outputs": [],
   "source": [
    "# Resys = biz_df4.groupby(['categories'])\n",
    "\n",
    "# Resys.count().head()"
   ]
  },
  {
   "cell_type": "code",
   "execution_count": 93,
   "metadata": {
    "scrolled": true
   },
   "outputs": [],
   "source": [
    "# Read Review data into Pandas\n",
    "#review_df = pd.read_json(reviews)\n"
   ]
  },
  {
   "cell_type": "markdown",
   "metadata": {},
   "source": [
    "### Transform Player DataFrames\n",
    "* Reduce Player DFs to only the 9 columns we want to evaluate\n",
    "* Update column headers to coorespond with schema \n",
    "* Add 'Season' column to DataFrames\n"
   ]
  },
  {
   "cell_type": "code",
   "execution_count": 94,
   "metadata": {},
   "outputs": [],
   "source": [
    "# # 2018 Player Data reduction\n",
    "# # Extract \"Player\", \"Tm\", \"Pos\", \"G\", \"FG\", \"FG%\", \"FT\", \"FT%\" and \"PTS\"\n",
    "# reduced_player18_df = player_2018_df.loc[:, [\"Player\", \"Tm\", \"Pos\", \"G\", \"FG\", \"FG%\", \"FT\", \"FT%\", \"PTS\"]]\n",
    "# reduced_player18_df.head(10)"
   ]
  },
  {
   "cell_type": "code",
   "execution_count": 95,
   "metadata": {},
   "outputs": [],
   "source": [
    "# # 2019 Player Data reduction\n",
    "# # Extract \"Player\", \"Tm\", \"Pos\", \"G\", \"FG\", \"FG%\", \"FT\", \"FT%\" and \"PTS\"\n",
    "# reduced_player19_df = player_2019_df.loc[:, [\"Player\", \"Tm\", \"Pos\", \"G\", \"FG\", \"FG%\", \"FT\", \"FT%\", \"PTS\"]]\n",
    "# reduced_player19_df.head(10)"
   ]
  },
  {
   "cell_type": "code",
   "execution_count": 96,
   "metadata": {},
   "outputs": [],
   "source": [
    "# #Header updates, Player Data:\n",
    "# revised_player18_df = reduced_player18_df.rename(columns={'Tm': 'team_name', 'Pos': 'Position',\t'G': 'Games', 'FG%': 'FG_pct', 'FT%': 'FT_pct', 'PTS': 'Total_Pts'})\n",
    "\n",
    "# revised_player19_df = reduced_player19_df.rename(columns={'Tm': 'team_name', 'Pos': 'Position',\t'G': 'Games', 'FG%': 'FG_pct', 'FT%': 'FT_pct', 'PTS': 'Total_Pts', })"
   ]
  },
  {
   "cell_type": "code",
   "execution_count": 97,
   "metadata": {},
   "outputs": [],
   "source": [
    "# # Add 'Season' column\n",
    "# revised_player18_df.insert(0, \"Season\", 2018, True)\n",
    "\n",
    "# revised_player19_df.insert(0, \"Season\", 2019, True)"
   ]
  },
  {
   "cell_type": "markdown",
   "metadata": {},
   "source": [
    "### Transform Game DataFrames\n",
    "* Remove the Box Score column from the Game Data\n",
    "* Update the Game Data DFs so team names match the 3 letter accrynyms on the Player Data DFs\n",
    "* Update column headers to coorespond with schema \n",
    "* Add 'Season' column "
   ]
  },
  {
   "cell_type": "code",
   "execution_count": 98,
   "metadata": {},
   "outputs": [],
   "source": [
    "# # 2018 Game Data reduction\n",
    "# # Extract \"Date\", \"Visitor/Neutral\", \"PTS\", \"Visitor/Neutral\", \"PTS.1\"\n",
    "# reduced_game18_df = wnba_2018_df.loc[:, [\"Date\", \"Visitor/Neutral\", \"PTS\", \"Home/Neutral\", \"PTS.1\"]]\n",
    "# reduced_game18_df.head(10)"
   ]
  },
  {
   "cell_type": "code",
   "execution_count": 99,
   "metadata": {},
   "outputs": [],
   "source": [
    "# # 2019 Game Data reduction\n",
    "# # Extract \"Date\", \"Visitor/Neutral\", \"PTS\", \"Visitor/Neutral\", \"PTS.1\"\n",
    "# reduced_game19_df = wnba_2019_df.loc[:, [\"Date\", \"Visitor/Neutral\", \"PTS\", \"Home/Neutral\", \"PTS.1\"]]\n",
    "# reduced_game19_df.head(10)"
   ]
  },
  {
   "cell_type": "code",
   "execution_count": 100,
   "metadata": {},
   "outputs": [],
   "source": [
    "# #Replace each full team name with 3-letter accrynym (i.e. DallasWings --> DAL)\n",
    "\n",
    "# replacements = {\n",
    "#     \"Dallas Wings\": \"DAL\",\n",
    "#     \"Chicago Sky\": \"CHI\",\n",
    "#     \"New York Liberty\": \"NYL\",\n",
    "#     \"Las Vegas Aces\": \"LVA\",\n",
    "#     \"Atlanta Dream\": \"ATL\",\n",
    "#     \"Los Angeles Sparks\": \"LAS\",\n",
    "#     \"Phoenix Mercury\": \"PHO\",\n",
    "#     \"Seattle Storm\": \"SEA\",\n",
    "#     \"Indiana Fever\": \"IND\",\n",
    "#     \"Washington Mystics\": \"WAS\",\n",
    "#     \"Minnesota Lynx\": \"MIN\",\n",
    "#     \"Connecticut Sun\": \"CON\",\n",
    "# }\n",
    "# reduced_game18_df[\"Visitor/Neutral\"].replace(replacements, inplace=True)\n",
    "\n",
    "# reduced_game18_df[\"Home/Neutral\"].replace(replacements, inplace=True)\n",
    "\n",
    "# reduced_game19_df[\"Visitor/Neutral\"].replace(replacements, inplace=True)\n",
    "\n",
    "# reduced_game19_df[\"Home/Neutral\"].replace(replacements, inplace=True)"
   ]
  },
  {
   "cell_type": "code",
   "execution_count": 101,
   "metadata": {},
   "outputs": [],
   "source": [
    "# # Headers updates, Game Data:\n",
    "# revised_game18_df = reduced_game18_df.rename(columns={'Visitor/Neutral': 'away_team', 'PTS': 'away_team_pts', 'Home/Neutral': 'home_team', 'PTS.1': 'home_team_pts'})\n",
    "\n",
    "# revised_game19_df = reduced_game19_df.rename(columns={'Visitor/Neutral': 'away_team', 'PTS': 'away_team_pts', 'Home/Neutral': 'home_team', 'PTS.1': 'home_team_pts'})"
   ]
  },
  {
   "cell_type": "code",
   "execution_count": 102,
   "metadata": {},
   "outputs": [],
   "source": [
    "# # Add 'Season' Column to Game Data\n",
    "# revised_game18_df.insert(0, \"Season\", 2018, True)\n",
    "\n",
    "# revised_game19_df.insert(0, \"Season\", 2019, True)"
   ]
  },
  {
   "cell_type": "markdown",
   "metadata": {},
   "source": [
    "### Connect to local database"
   ]
  },
  {
   "cell_type": "code",
   "execution_count": 103,
   "metadata": {},
   "outputs": [],
   "source": [
    "# connection_string = \"postgres:postgres@localhost:5432/WNBA\"\n",
    "# engine = create_engine(f'postgresql://{connection_string}')"
   ]
  },
  {
   "cell_type": "code",
   "execution_count": 104,
   "metadata": {},
   "outputs": [],
   "source": [
    "# # Confirm tables\n",
    "# engine.table_names()"
   ]
  },
  {
   "cell_type": "markdown",
   "metadata": {},
   "source": [
    "### Load DataFrames into database"
   ]
  },
  {
   "cell_type": "code",
   "execution_count": 105,
   "metadata": {},
   "outputs": [],
   "source": [
    "# revised_game18_df.to_sql(name='Game_Data_18', con=engine, if_exists='append', index=True)\n",
    "\n",
    "# revised_game19_df.to_sql(name='Game_Data_19', con=engine, if_exists='append', index=True)\n",
    "\n",
    "# revised_player18_df.to_sql(name='Player_Data_18', con=engine, if_exists='append', index=True)\n",
    "\n",
    "# revised_player19_df.to_sql(name='Player_Data_19', con=engine, if_exists='append', index=True)\n"
   ]
  }
 ],
 "metadata": {
  "kernelspec": {
   "display_name": "Python 3",
   "language": "python",
   "name": "python3"
  },
  "language_info": {
   "codemirror_mode": {
    "name": "ipython",
    "version": 3
   },
   "file_extension": ".py",
   "mimetype": "text/x-python",
   "name": "python",
   "nbconvert_exporter": "python",
   "pygments_lexer": "ipython3",
   "version": "3.7.6"
  }
 },
 "nbformat": 4,
 "nbformat_minor": 2
}
